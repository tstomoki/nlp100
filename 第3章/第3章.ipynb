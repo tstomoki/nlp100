{
 "cells": [
  {
   "cell_type": "markdown",
   "metadata": {},
   "source": [
    "# 第3章: 正規表現\n",
    "\n",
    "Wikipediaの記事を以下のフォーマットで書き出したファイルjawiki-country.json.gzがある．\n",
    "\n",
    "- 1行に1記事の情報がJSON形式で格納される\n",
    "- 各行には記事名が”title”キーに，記事本文が”text”キーの辞書オブジェクトに格納され，そのオブジェクトがJSON形式で書き出される\n",
    "- ファイル全体はgzipで圧縮される\n",
    "\n",
    "以下の処理を行うプログラムを作成せよ．"
   ]
  },
  {
   "cell_type": "code",
   "execution_count": 2,
   "metadata": {},
   "outputs": [],
   "source": [
    "import os\n",
    "import re\n",
    "import json\n",
    "import gzip\n",
    "import numpy as np"
   ]
  },
  {
   "cell_type": "code",
   "execution_count": 3,
   "metadata": {},
   "outputs": [],
   "source": [
    "eng_text = open(os.path.join('data', 'eng.txt')).read()"
   ]
  },
  {
   "cell_type": "code",
   "execution_count": 3,
   "metadata": {},
   "outputs": [
    {
     "name": "stdout",
     "output_type": "stream",
     "text": [
      "mkdir: ./data: File exists\n",
      "  % Total    % Received % Xferd  Average Speed   Time    Time     Time  Current\n",
      "                                 Dload  Upload   Total   Spent    Left  Speed\n",
      "100 4949k  100 4949k    0     0  8950k      0 --:--:-- --:--:-- --:--:-- 8950k\n",
      "jawiki-country.json.gz\n"
     ]
    }
   ],
   "source": [
    "!mkdir ./data\n",
    "!curl -O https://nlp100.github.io/data/jawiki-country.json.gz\n",
    "!mv  jawiki-country.json.gz ./data\n",
    "!ls data/"
   ]
  },
  {
   "cell_type": "markdown",
   "metadata": {},
   "source": [
    "## 20. JSONデータの読み込み\n",
    "Wikipedia記事のJSONファイルを読み込み，「イギリス」に関する記事本文を表示せよ．問題21-29では，ここで抽出した記事本文に対して実行せよ．"
   ]
  },
  {
   "cell_type": "code",
   "execution_count": 8,
   "metadata": {
    "scrolled": false
   },
   "outputs": [
    {
     "name": "stdout",
     "output_type": "stream",
     "text": [
      "{{redirect|UK}}\n",
      "{{redirect|英国|春秋時代の諸侯国|英 (春秋)}}\n",
      "{{Otheruses|ヨーロッパの国|長崎県・熊本県の郷土料理|いぎりす}}\n",
      "{{基礎情報 国\n",
      "|略名  =イギリス\n",
      "|日本語国名 = グレートブリテン及び北アイルランド連合王国\n",
      "|公式国名 = {{lang|en|United Kingdom of Great Britain and Northern Ireland}}<ref>英語以外での正式国名:<br />\n",
      "*{{lang|gd|An Rìoghachd Aonaichte na Breatainn Mhòr agus Eirinn mu Thuath}}（[[スコットランド・ゲール語]]）\n",
      "*{{lang|cy|Teyrnas Gyfunol Prydain Fawr a Gogledd Iwerddon}}（[[ウェールズ語]]）\n",
      "*{{lang|ga|Ríocht Aontaithe na Breataine Móire agus Tuaisceart na hÉireann}}（[[アイルランド語]]）\n",
      "*{{lang|kw|An Rywvaneth Unys a Vreten Veur hag Iwerdhon Glédh}}（[[コーンウォール語]]）\n",
      "*{{lang|sco|Unitit Kinrick o Great Breetain an Northren Ireland}}（[[スコットランド語]]）\n",
      "**{{lang|sco|Claught Kängrick o Docht Brätain an Norlin Airlann}}、{{lang|sco|Unitet Kängdom o Great Brittain an Norlin Airlann}}（アルスター・スコットランド語）</ref>\n",
      "|国旗画像 = Flag of the United Kingdom.svg\n",
      "|国章画像 = [[ファイル:Royal Coat of Arms of the United Kingdom.svg|85px|イギリスの国章]]\n",
      "|国章リンク =（[[イギリスの国章|国章]]）\n",
      "|標語 = {{lang|fr|[[Dieu et mon droit]]}}<br />（[[フランス語]]:[[Die\n"
     ]
    }
   ],
   "source": [
    "display_characters = 1000 ## 1000文字だけ表示\n",
    "filepath = os.path.join('data', 'jawiki-country.json.gz')\n",
    "eng_text = None\n",
    "with gzip.open(filepath, 'r') as f:\n",
    "    for line in f:\n",
    "        obj = json.loads(line)\n",
    "        if 'イギリス' == obj['title']:\n",
    "            print(obj['text'][:display_characters])\n",
    "            eng_text = obj['text']\n",
    "\n",
    "eng_text_filepath = os.path.join('data', 'eng.txt')\n",
    "with open(eng_text_filepath, 'w') as f:\n",
    "    f.write(eng_text)"
   ]
  },
  {
   "cell_type": "markdown",
   "metadata": {},
   "source": [
    "## 21. カテゴリ名を含む行を抽出\n",
    "記事中でカテゴリ名を宣言している行を抽出せよ．"
   ]
  },
  {
   "cell_type": "code",
   "execution_count": 4,
   "metadata": {},
   "outputs": [
    {
     "name": "stdout",
     "output_type": "stream",
     "text": [
      "{{Sisterlinks|commons=United Kingdom|commonscat=United Kingdom|s=Category:イギリス|n=Category:イギリス|voy=United Kingdom}}\n",
      "[[Category:イギリス|*]]\n",
      "[[Category:イギリス連邦加盟国]]\n",
      "[[Category:英連邦王国|*]]\n",
      "[[Category:G8加盟国]]\n",
      "[[Category:欧州連合加盟国|元]]\n",
      "[[Category:海洋国家]]\n",
      "[[Category:現存する君主国]]\n",
      "[[Category:島国]]\n",
      "[[Category:1801年に成立した国家・領域]]\n"
     ]
    }
   ],
   "source": [
    "for line in eng_text.split('\\n'):\n",
    "    if 'Category' in line:\n",
    "        print(line)"
   ]
  },
  {
   "cell_type": "markdown",
   "metadata": {},
   "source": [
    "## 22. カテゴリ名の抽出\n",
    "記事のカテゴリ名を（行単位ではなく名前で）抽出せよ．"
   ]
  },
  {
   "cell_type": "code",
   "execution_count": 5,
   "metadata": {},
   "outputs": [
    {
     "name": "stdout",
     "output_type": "stream",
     "text": [
      "島国\n",
      "イギリス\n",
      "海洋国家\n",
      "G8加盟国\n",
      "英連邦王国\n",
      "現存する君主国\n",
      "欧州連合加盟国\n",
      "イギリス連邦加盟国\n",
      "1801年に成立した国家・領域\n"
     ]
    }
   ],
   "source": [
    "import re\n",
    "categories = re.findall('Category: ?([^| \\]]+)', eng_text)\n",
    "for c in sorted(set(categories), key=len):\n",
    "    print(c)"
   ]
  },
  {
   "cell_type": "markdown",
   "metadata": {},
   "source": [
    "## 23. セクション構造\n",
    "記事中に含まれるセクション名とそのレベル（例えば”== セクション名 ==”なら1）を表示せよ．"
   ]
  },
  {
   "cell_type": "code",
   "execution_count": 6,
   "metadata": {},
   "outputs": [
    {
     "name": "stdout",
     "output_type": "stream",
     "text": [
      " 国名  : 2\n",
      " 歴史  : 2\n",
      " 地理  : 2\n",
      " 政治  : 2\n",
      " 経済  : 2\n",
      " 交通  : 2\n",
      "科学技術 : 2\n",
      " 国民  : 2\n",
      " 文化  : 2\n",
      " 脚注  : 2\n",
      "関連項目 : 2\n",
      "外部リンク: 2\n",
      "主要都市 : 3\n",
      " 気候  : 3\n",
      " 元首  : 3\n",
      "  法  : 3\n",
      " 内政  : 3\n",
      "地方行政区分: 3\n",
      "外交・軍事: 3\n",
      " 鉱業  : 3\n",
      " 農業  : 3\n",
      " 貿易  : 3\n",
      " 不動産 : 3\n",
      "エネルギー政策: 3\n",
      " 通貨  : 3\n",
      " 企業  : 3\n",
      " 道路  : 3\n",
      " 鉄道  : 3\n",
      " 海運  : 3\n",
      " 航空  : 3\n",
      " 言語  : 3\n",
      " 宗教  : 3\n",
      " 婚姻  : 3\n",
      " 移住  : 3\n",
      " 教育  : 3\n",
      " 医療  : 3\n",
      " 食文化 : 3\n",
      " 文学  : 3\n",
      " 哲学  : 3\n",
      " 音楽  : 3\n",
      " 映画  : 3\n",
      "コメディ : 3\n",
      " 国花  : 3\n",
      "世界遺産 : 3\n",
      " 祝祭日 : 3\n",
      "スポーツ : 3\n",
      " 通信  : 4\n",
      "ポピュラー音楽: 4\n",
      "サッカー : 4\n",
      "クリケット: 4\n",
      " 競馬  : 4\n",
      "モータースポーツ: 4\n",
      " 野球  : 4\n"
     ]
    }
   ],
   "source": [
    "url_replaced_txt = re.sub('https?://[\\w!?/\\+\\-_~=;\\.,*&@#$%\\(\\)\\'\\[\\]]+', 'URL', eng_text)\n",
    "candidates = re.findall('(=+)([^| \\]=}:&]+)(=+)', url_replaced_txt) ## &を除外するのは不本意\n",
    "\n",
    "sections = []\n",
    "for prefix, section_name, suffix in candidates:\n",
    "    if len(prefix) != len(suffix):\n",
    "        continue\n",
    "    level = len(prefix)\n",
    "    sections.append((section_name, level))\n",
    "for section, level in sorted(sections, key=lambda x: x[1]):\n",
    "    print(f\"{section:^5}: {level:>1}\")"
   ]
  },
  {
   "cell_type": "markdown",
   "metadata": {},
   "source": [
    "## 24. ファイル参照の抽出\n",
    "記事から参照されているメディアファイルをすべて抜き出せ．"
   ]
  },
  {
   "cell_type": "code",
   "execution_count": 7,
   "metadata": {
    "scrolled": false
   },
   "outputs": [
    {
     "data": {
      "text/plain": [
       "['https://www.ons.gov.uk/peoplepopulationandcommunity/populationandmigration/populationestimates',\n",
       " 'http://www.imf.org/external/pubs/ft/weo/2012/02/weodata/weorept.aspx?pr.x=70&pr.y=13&sy=2010&ey=2012&scsm=1&ssd=1&sort=country&ds=.&br=1&c=112&s=NGDP%2CNGDPD%2CPPPGDP%2CPPPPC&grp=0&a=IMF',\n",
       " 'http://webarchive.nationalarchives.gov.uk/+/http',\n",
       " 'http://warp.da.ndl.go.jp/info',\n",
       " 'https://kotobank.jp/word/%E3%82%A8%E3%82%B2%E3%83%AC%E3%82%B9-444373',\n",
       " 'http://www.scotshistoryonline.co.uk/union.html',\n",
       " 'http://books.google.com/?id=LYc1tSYonrQC&pg=PA165',\n",
       " 'http://www.historyworld.net/wrldhis/PlainTextHistories.asp?historyid=ab07',\n",
       " 'http://www.iso.org/iso/iso_3166-2_newsletter_ii-3_2011-12-13.pdf',\n",
       " 'http://books.google.com/?id=gPkDAQAAIAAJ',\n",
       " 'http://books.google.com/?id=2u8rD6F-yg0C&pg=PA7',\n",
       " 'http://www.ons.gov.uk/ons/dcp171778_346117.xml',\n",
       " 'https://web.archive.org/web/20141224045523/http',\n",
       " 'http://www.gmb.org.uk/newsroom/fall-in-earnings-value-during-recession',\n",
       " 'http://www.merriam-webster.com/dictionary/great%20britain',\n",
       " 'http://www.guardian.co.uk/styleguide/page/0,,184840,00.html',\n",
       " 'http://news.bbc.co.uk/1/hi/programmes/radio_newsroom/1099593.stm#g',\n",
       " 'http://www.direct.gov.uk/en/Governmentcitizensandrights/LivingintheUK/DG_10012517',\n",
       " 'http://webarchive.nationalarchives.gov.uk/20121015000000/http',\n",
       " 'http://www.olympic.org/great-britain',\n",
       " 'http://www.belfasttelegraph.co.uk/news/northern-ireland/team-gb-olympic-name-row-still-simmering-in-northern-ireland-28776939.html',\n",
       " 'http://books.google.com/?id=HT_GS2zgN5QC&pg=PA36',\n",
       " 'http://www.ark.ac.uk/nilt/2010/Community_Relations/NINATID.html',\n",
       " 'http://books.google.com/?id=u8gZklxHTMUC&pg=PA275',\n",
       " 'http://www.guardian.co.uk/commentisfree/2010/dec/11/ian-jack-saddened-by-scotland-going-gaelic',\n",
       " 'http://www.direct.gov.uk/cy/Governmentcitizensandrights/LivingintheUK/DG_10012517CY',\n",
       " 'https://web.archive.org/web/20120924102112/http',\n",
       " 'http://www.cnn.co.jp/world/35023094.html',\n",
       " 'https://mainichi.jp/articles/20200201/k00/00m/030/008000c',\n",
       " 'http://yoshio-kusano.sakura.ne.jp/nakayamakouen6newpage3.html',\n",
       " 'https://web.archive.org/web/20140512220911/http',\n",
       " 'http://www.fco.gov.uk/en/about-us/what-we-do/overseas-territories',\n",
       " 'http://www.direct.gov.uk/en/Governmentcitizensandrights/LivingintheUK/DG_10012517',\n",
       " 'http://webarchive.nationalarchives.gov.uk/20121015000000/http',\n",
       " 'http://appsso.eurostat.ec.europa.eu/nui/show.do?dataset=met_pjanaggr3&lang=en',\n",
       " 'https://www.cia.gov/library/publications/the-world-factbook/geos/uk.html',\n",
       " 'https://www.weatheronline.co.uk/weather/maps/city?FMM=1&FYY=2001&LMM=12&LYY=2017&WMO=03779&CONT=ukuk&REGION=0003&LAND=UK&ART=TEM&R=0&NOREGION=1&LEVEL=162&LANG=en&MOD=tab',\n",
       " 'http://www.royal.gov.uk/MonarchUK/HowtheMonarchyworks/Whatisconstitutionalmonarchy.aspx',\n",
       " 'https://www.cia.gov/library/publications/the-world-factbook/geos/uk.html',\n",
       " 'https://www.gov.uk/devolution-of-powers-to-scotland-wales-and-northern-ireland#devolved-administrations',\n",
       " 'http://news.bbc.co.uk/1/hi/education/7859034.stm',\n",
       " 'http://www.transport-research.info/web/countryprofiles/uk.cfm',\n",
       " 'https://web.archive.org/web/20100404062853/http',\n",
       " 'http://www.theaustralian.com.au/news/opinion/cameron-has-chance-to-make-uk-great-again/story-e6frg6zo-1225866975992',\n",
       " 'http://www.independent.co.uk/news/uk/home-news/britain-is-now-most-powerful-nation-on-earth-8326452.html',\n",
       " 'http://books.google.ie/books?id=lwpOnwEACAAJ&dq=Britain+and+World+Power+Since+1945',\n",
       " 'http://www.globalpowereurope.eu/',\n",
       " 'http://www.raf.mod.uk/legalservices/p3chp29.htm',\n",
       " 'https://web.archive.org/web/20090221072352/http',\n",
       " 'http://www.mod.uk/DefenceInternet/AboutDefence/Organisation/KeyFactsAboutDefence/DefenceSpending.htm',\n",
       " 'http://www.mod.uk/NR/rdonlyres/6FBA7459-7407-4B85-AA47-7063F1F22461/0/modara_0405_s1_resources.pdf',\n",
       " 'http://books.sipri.org/product_info?c_product_id=476',\n",
       " 'https://web.archive.org/web/20150104033821/http',\n",
       " 'http://www.iiss.org/en/about%20us/press%20room/press%20releases/press%20releases/archive/2014-dd03/february-0abc/military-balance-2014-press-statement-52d7',\n",
       " 'https://www.imf.org/external/pubs/ft/weo/2016/02/weodata/weorept.aspx?sy=2015&ey=2015&scsm=1&ssd=1&sort=country&ds=.&br=1&c=112&s=NGDPD%2CNGDPDPC&grp=0&a=&pr.x=28&pr.y=7',\n",
       " 'http://www.mori-m-foundation.or.jp/ius/gpci/',\n",
       " 'http://www.longfinance.net/global-financial-centres-index-20/1037-gfci-20.html',\n",
       " 'http://www.bis.org/publ/rpfx16.htm',\n",
       " 'http://www.bcg.com/expertise_impact/publications/PublicationDetails.aspx?id=tcm',\n",
       " 'https://hdl.handle.net/11266/1231',\n",
       " 'http://sankei.jp.msn.com/economy/business/080830/biz0808301850007-n1.htm',\n",
       " 'https://web.archive.org/web/20080902012013/http',\n",
       " 'http://mainichi.jp/select/news/20151022k0000m030079000c.html',\n",
       " 'https://web.archive.org/web/20151023155717/http',\n",
       " 'https://www.gov.uk/government/news/multimillion-boost-to-uk-economy-as-china-and-uk-government-sign-civil-nuclear-agreement-and-sign-agreement-to-deepen-cooperation-on-climate-change',\n",
       " 'https://www.ons.gov.uk/peoplepopulationandcommunity/culturalidentity/religion/articles/religioninenglandandwales2011/2012-12-11',\n",
       " 'https://www.gov.uk/government/news/introduction-of-same-sex-marriage-at-british-consulates-overseas.ja',\n",
       " 'https://www.ohe.org/publications/ohe-guide-uk-health-and-health-care-statistics',\n",
       " 'http://news.bbc.co.uk/1/hi/health/7586147.stm',\n",
       " 'http://news.bbc.co.uk/1/hi/health/7149423.stm',\n",
       " 'http://www.healthp.org/node/71',\n",
       " 'http://www.who.int/whr/2000/en/whr00_en.pdf',\n",
       " 'http://pages.stern.nyu.edu/~wgreene/Statistics/WHO-COMP-Study-30.pdf',\n",
       " 'https://www.theguardian.com/sport/blog/2015/feb/12/cricket-world-cup-icc-50-overs',\n",
       " 'https://www.theguardian.com/sport/live/2019/jul/14/new-zealand-v-england-cricket-world-cup-final-2019-live',\n",
       " 'http://www.curling.or.jp/newinfo/newrankings.html',\n",
       " 'https://www.royal.uk/',\n",
       " 'https://www.gov.uk/',\n",
       " 'https://www.gov.uk/government/organisations/prime-ministers-office-10-downing-street',\n",
       " 'https://www.gov.uk/government/world/japan.ja',\n",
       " 'https://www.gov.uk/government/world/organisations/british-embassy-tokyo.ja',\n",
       " 'https://www.gov.uk/government/organisations/uk-visas-and-immigration',\n",
       " 'https://www.vfsglobal.co.uk/ja-jp',\n",
       " 'https://www.mofa.go.jp/mofaj/area/uk/',\n",
       " 'https://www.uk.emb-japan.go.jp/',\n",
       " 'https://www.visitbritain.com/jp/ja',\n",
       " 'https://www.jetro.go.jp/world/europe/uk/']"
      ]
     },
     "execution_count": 7,
     "metadata": {},
     "output_type": "execute_result"
    }
   ],
   "source": [
    "re.findall('https?://[\\w!?/\\+\\-_~=;\\.,*&@#$%\\(\\)\\'\\[\\]]+', eng_text)\n",
    "# 'http://webarchive.nationalarchives.gov.uk/20121015000000/http' のようなものも取れてしまう。。"
   ]
  },
  {
   "cell_type": "markdown",
   "metadata": {},
   "source": [
    "## 25. テンプレートの抽出\n",
    "記事中に含まれる「基礎情報」テンプレートのフィールド名と値を抽出し，辞書オブジェクトとして格納せよ．"
   ]
  },
  {
   "cell_type": "code",
   "execution_count": 8,
   "metadata": {},
   "outputs": [
    {
     "name": "stdout",
     "output_type": "stream",
     "text": [
      "('他元首等肩書1 ', '貴族院 (イギリス)|貴族院議長')\n",
      "('略名  ', 'イギリス')\n",
      "('国章リンク ', 'イギリスの国章|国章')\n"
     ]
    }
   ],
   "source": [
    "pattern = '\\|([^=]+)=[ \\[（]*([^\\]]+)'\n",
    "print(re.search(pattern, '|他元首等肩書1 = [[貴族院 (イギリス)|貴族院議長]]').groups())\n",
    "print(re.search(pattern, '|略名  =イギリス').groups())\n",
    "print(re.search(pattern, '|国章リンク =（[[イギリスの国章|国章]]）').groups())"
   ]
  },
  {
   "cell_type": "code",
   "execution_count": 9,
   "metadata": {},
   "outputs": [
    {
     "name": "stdout",
     "output_type": "stream",
     "text": [
      "{{基礎情報 国\n",
      "|略名  =イギリス\n",
      "|日本語国名 = グレートブリテン及び北アイルランド連合王国\n",
      "|公式国名 = {{lang|en|United Kingdom of Great Britain and Northern Ireland}}<ref>英語以外での正式国名:<br />\n",
      "*{{lang|gd|An Rìoghachd Aonaichte na Breatainn Mhòr agus Eirinn mu Thuath}}（[[スコットランド・ゲール語]]）\n",
      "*{{lang|cy|Teyrnas Gyfunol Prydain Fawr a Gogledd Iwerddon}}（[[ウェールズ語]]）\n",
      "*{{lang|ga|Ríocht Aontaithe na Breataine Móire agus Tuaisceart na hÉireann}}（[[アイルランド語]]）\n",
      "*{{lang|kw|An Rywvaneth Unys a Vreten Veur hag Iwerdhon Glédh}}（[[コーンウォール語]]）\n",
      "*{{lang|sco|Unitit Kinrick o Great Breetain an Northren Ireland}}（[[スコットランド語]]）\n",
      "**{{lang|sco|Claught Kängrick o Docht Brätain an Norlin Airlann}}、{{lang|sco|Unitet Kängdom o Great Brittain an Norlin Airlann}}（アルスター・スコットランド語）</ref>\n",
      "|国旗画像 = Flag of the United Kingdom.svg\n",
      "|国章画像 = [[ファイル:Royal Coat of Arms of the United Kingdom.svg|85px|イギリスの国章]]\n",
      "|国章リンク =（[[イギリスの国章|国章]]）\n",
      "|標語 = {{lang|fr|[[Dieu et mon droit]]}}<br />（[[フランス語]]:[[Dieu et mon droit|神と我が権利]]）\n",
      "|国歌 = [[女王陛下万歳|{{lang|en|God Save the Queen}}]]{{en icon}}<br />''神よ女王を護り賜え''<br />{{center|[[ファイル:United States Navy Band - God Save the Queen.ogg]]}}\n",
      "|地図画像 = Europe-UK.svg\n",
      "|位置画像 = United Kingdom (+overseas territories) in the World (+Antarctica claims).svg\n",
      "|公用語 = [[英語]]\n",
      "|首都 = [[ロンドン]]（事実上）\n",
      "|最大都市 = ロンドン\n",
      "|元首等肩書 = [[イギリスの君主|女王]]\n",
      "|元首等氏名 = [[エリザベス2世]]\n",
      "|首相等肩書 = [[イギリスの首相|首相]]\n",
      "|首相等氏名 = [[ボリス・ジョンソン]]\n",
      "|他元首等肩書1 = [[貴族院 (イギリス)|貴族院議長]]\n",
      "|他元首等氏名1 = [[:en:Norman Fowler, Baron Fowler|ノーマン・ファウラー]]\n",
      "|他元首等肩書2 = [[庶民院 (イギリス)|庶民院議長]]\n",
      "|他元首等氏名2 = {{仮リンク|リンゼイ・ホイル|en|Lindsay Hoyle}}\n",
      "|他元首等肩書3 = [[連合王国最高裁判所|最高裁判所長官]]\n",
      "|他元首等氏名3 = [[:en:Brenda Hale, Baroness Hale of Richmond|ブレンダ・ヘイル]]\n",
      "|面積順位 = 76\n",
      "|面積大きさ = 1 E11\n",
      "|面積値 = 244,820\n",
      "|水面積率 = 1.3%\n",
      "|人口統計年 = 2018\n",
      "|人口順位 = 22\n",
      "|人口大きさ = 1 E7\n",
      "|人口値 = 6643万5600<ref>{{Cite web|url=https://www.ons.gov.uk/peoplepopulationandcommunity/populationandmigration/populationestimates|title=Population estimates - Office for National Statistics|accessdate=2019-06-26|date=2019-06-26}}</ref>\n",
      "|人口密度値 = 271\n",
      "|GDP統計年元 = 2012\n",
      "|GDP値元 = 1兆5478億<ref name=\"imf-statistics-gdp\">[http://www.imf.org/external/pubs/ft/weo/2012/02/weodata/weorept.aspx?pr.x=70&pr.y=13&sy=2010&ey=2012&scsm=1&ssd=1&sort=country&ds=.&br=1&c=112&s=NGDP%2CNGDPD%2CPPPGDP%2CPPPPC&grp=0&a=IMF>Data and Statistics>World Economic Outlook Databases>By Countrise>United Kingdom]</ref>\n",
      "|GDP統計年MER = 2012\n",
      "|GDP順位MER = 6\n",
      "|GDP値MER = 2兆4337億<ref name=\"imf-statistics-gdp\" />\n",
      "|GDP統計年 = 2012\n",
      "|GDP順位 = 6\n",
      "|GDP値 = 2兆3162億<ref name=\"imf-statistics-gdp\" />\n",
      "|GDP/人 = 36,727<ref name=\"imf-statistics-gdp\" />\n",
      "|建国形態 = 建国\n",
      "|確立形態1 = [[イングランド王国]]／[[スコットランド王国]]<br />（両国とも[[合同法 (1707年)|1707年合同法]]まで）\n",
      "|確立年月日1 = 927年／843年\n",
      "|確立形態2 = [[グレートブリテン王国]]成立<br />（1707年合同法）\n",
      "|確立年月日2 = 1707年{{0}}5月{{0}}1日\n",
      "|確立形態3 = [[グレートブリテン及びアイルランド連合王国]]成立<br />（[[合同法 (1800年)|1800年合同法]]）\n",
      "|確立年月日3 = 1801年{{0}}1月{{0}}1日\n",
      "|確立形態4 = 現在の国号「'''グレートブリテン及び北アイルランド連合王国'''」に変更\n",
      "|確立年月日4 = 1927年{{0}}4月12日\n",
      "|通貨 = [[スターリング・ポンド|UKポンド]] (£)\n",
      "|通貨コード = GBP\n",
      "|時間帯 = ±0\n",
      "|夏時間 = +1\n",
      "|ISO 3166-1 = GB / GBR\n",
      "|ccTLD = [[.uk]] / [[.gb]]<ref>使用は.ukに比べ圧倒的少数。</ref>\n",
      "|国際電話番号 = 44\n",
      "|注記 = <references/>\n",
      "}}\n"
     ]
    }
   ],
   "source": [
    "# 基礎情報 原文\n",
    "double_curly_count = 0\n",
    "basic_info = []\n",
    "for line in eng_text.split('\\n'):\n",
    "    if '{{基礎情報' in line:\n",
    "        double_curly_count = 1\n",
    "        basic_info.append(line)\n",
    "    elif double_curly_count > 0:\n",
    "        basic_info.append(line)\n",
    "        if '{{' in line or '}}' in line:\n",
    "            if '{{' in line:\n",
    "                double_curly_count += 1\n",
    "            if '}}' in line:\n",
    "                double_curly_count -= 1\n",
    "        if double_curly_count == 0:\n",
    "            break\n",
    "print('\\n'.join(basic_info))"
   ]
  },
  {
   "cell_type": "code",
   "execution_count": 10,
   "metadata": {},
   "outputs": [
    {
     "data": {
      "text/plain": [
       "{'略名': 'イギリス',\n",
       " '日本語国名': 'グレートブリテン及び北アイルランド連合王国',\n",
       " '公式国名': '{{lang|en|United Kingdom of Great Britain and Northern Ireland}}<ref>英語以外での正式国名:<br />',\n",
       " '国旗画像': 'Flag of the United Kingdom.svg',\n",
       " '国章画像': '[[ファイル:Royal Coat of Arms of the United Kingdom.svg|85px|イギリスの国章]]',\n",
       " '国章リンク': '（[[イギリスの国章|国章]]）',\n",
       " '標語': '{{lang|fr|[[Dieu et mon droit]]}}<br />（[[フランス語]]:[[Dieu et mon droit|神と我が権利]]）',\n",
       " '国歌': \"[[女王陛下万歳|{{lang|en|God Save the Queen}}]]{{en icon}}<br />''神よ女王を護り賜え''<br />{{center|[[ファイル:United States Navy Band - God Save the Queen.ogg]]}}\",\n",
       " '地図画像': 'Europe-UK.svg',\n",
       " '位置画像': 'United Kingdom (+overseas territories) in the World (+Antarctica claims).svg',\n",
       " '公用語': '[[英語]]',\n",
       " '首都': '[[ロンドン]]（事実上）',\n",
       " '最大都市': 'ロンドン',\n",
       " '元首等肩書': '[[イギリスの君主|女王]]',\n",
       " '元首等氏名': '[[エリザベス2世]]',\n",
       " '首相等肩書': '[[イギリスの首相|首相]]',\n",
       " '首相等氏名': '[[ボリス・ジョンソン]]',\n",
       " '他元首等肩書1': '[[貴族院 (イギリス)|貴族院議長]]',\n",
       " '他元首等氏名1': '[[:en:Norman Fowler, Baron Fowler|ノーマン・ファウラー]]',\n",
       " '他元首等肩書2': '[[庶民院 (イギリス)|庶民院議長]]',\n",
       " '他元首等氏名2': '{{仮リンク|リンゼイ・ホイル|en|Lindsay Hoyle}}',\n",
       " '他元首等肩書3': '[[連合王国最高裁判所|最高裁判所長官]]',\n",
       " '他元首等氏名3': '[[:en:Brenda Hale, Baroness Hale of Richmond|ブレンダ・ヘイル]]',\n",
       " '面積順位': '76',\n",
       " '面積大きさ': '1 E11',\n",
       " '面積値': '244,820',\n",
       " '水面積率': '1.3%',\n",
       " '人口統計年': '2018',\n",
       " '人口順位': '22',\n",
       " '人口大きさ': '1 E7',\n",
       " '人口値 = 6643万5600<ref>{{Cite web|url=https://www.ons.gov.uk/peoplepopulationandcommunity/populationandmigration/populationestimates|title=Population estimates - Office for National Statistics|accessdate=2019-06-26|date': '2019-06-26}}</ref>',\n",
       " '人口密度値': '271',\n",
       " 'GDP統計年元': '2012',\n",
       " 'GDP値元 = 1兆5478億<ref name=\"imf-statistics-gdp\">[http://www.imf.org/external/pubs/ft/weo/2012/02/weodata/weorept.aspx?pr.x=70&pr.y=13&sy=2010&ey=2012&scsm=1&ssd=1&sort=country&ds=.&br=1&c=112&s=NGDP%2CNGDPD%2CPPPGDP%2CPPPPC&grp=0&a': 'IMF>Data and Statistics>World Economic Outlook Databases>By Countrise>United Kingdom]</ref>',\n",
       " 'GDP統計年MER': '2012',\n",
       " 'GDP順位MER': '6',\n",
       " 'GDP値MER = 2兆4337億<ref name': '\"imf-statistics-gdp\" />',\n",
       " 'GDP統計年': '2012',\n",
       " 'GDP順位': '6',\n",
       " 'GDP値 = 2兆3162億<ref name': '\"imf-statistics-gdp\" />',\n",
       " 'GDP/人 = 36,727<ref name': '\"imf-statistics-gdp\" />',\n",
       " '建国形態': '建国',\n",
       " '確立形態1': '[[イングランド王国]]／[[スコットランド王国]]<br />（両国とも[[合同法 (1707年)|1707年合同法]]まで）',\n",
       " '確立年月日1': '927年／843年',\n",
       " '確立形態2': '[[グレートブリテン王国]]成立<br />（1707年合同法）',\n",
       " '確立年月日2': '1707年{{0}}5月{{0}}1日',\n",
       " '確立形態3': '[[グレートブリテン及びアイルランド連合王国]]成立<br />（[[合同法 (1800年)|1800年合同法]]）',\n",
       " '確立年月日3': '1801年{{0}}1月{{0}}1日',\n",
       " '確立形態4': \"現在の国号「'''グレートブリテン及び北アイルランド連合王国'''」に変更\",\n",
       " '確立年月日4': '1927年{{0}}4月12日',\n",
       " '通貨': '[[スターリング・ポンド|UKポンド]] (£)',\n",
       " '通貨コード': 'GBP',\n",
       " '時間帯': '±0',\n",
       " '夏時間': '+1',\n",
       " 'ISO 3166-1': 'GB / GBR',\n",
       " 'ccTLD': '[[.uk]] / [[.gb]]<ref>使用は.ukに比べ圧倒的少数。</ref>',\n",
       " '国際電話番号': '44',\n",
       " '注記': '<references/>'}"
      ]
     },
     "execution_count": 10,
     "metadata": {},
     "output_type": "execute_result"
    }
   ],
   "source": [
    "# 基礎情報をparse\n",
    "fields_dict = {}\n",
    "basic_info_pattern = '\\|(.+)=(.+)'\n",
    "for info_line in basic_info:\n",
    "    m = re.search(basic_info_pattern, info_line)\n",
    "    if m:\n",
    "        field, val = m.groups()\n",
    "        fields_dict[field.strip()] = val.strip()\n",
    "fields_dict"
   ]
  },
  {
   "cell_type": "markdown",
   "metadata": {},
   "source": [
    "## 26. 強調マークアップの除去\n",
    "25の処理時に，テンプレートの値からMediaWikiの強調マークアップ（弱い強調，強調，強い強調のすべて）を除去してテキストに変換せよ（参考: [マークアップ早見表](https://ja.wikipedia.org/wiki/Help:%E6%97%A9%E8%A6%8B%E8%A1%A8)）．"
   ]
  },
  {
   "cell_type": "code",
   "execution_count": 11,
   "metadata": {},
   "outputs": [
    {
     "data": {
      "text/plain": [
       "'|確立形態4 = 現在の国号「グレートブリテン及び北アイルランド連合王国」に変更'"
      ]
     },
     "execution_count": 11,
     "metadata": {},
     "output_type": "execute_result"
    }
   ],
   "source": [
    "re.sub(\"'?''\", '', \"|確立形態4 = 現在の国号「'''グレートブリテン及び北アイルランド連合王国'''」に変更\")"
   ]
  },
  {
   "cell_type": "code",
   "execution_count": 12,
   "metadata": {},
   "outputs": [],
   "source": [
    "# helper\n",
    "def remove_pattern(pattern, line, split_delim=None):\n",
    "    m = re.search(pattern, line)\n",
    "    if m:\n",
    "        val, = m.groups()\n",
    "        if split_delim:\n",
    "            val = val.split(split_delim)[-1]\n",
    "        return val\n",
    "    return line"
   ]
  },
  {
   "cell_type": "code",
   "execution_count": 13,
   "metadata": {},
   "outputs": [
    {
     "name": "stdout",
     "output_type": "stream",
     "text": [
      "国歌 [[女王陛下万歳|{{lang|en|God Save the Queen}}]]{{en icon}}<br />''神よ女王を護り賜え''<br />{{center|[[ファイル:United States Navy Band - God Save the Queen.ogg]]}}\n",
      "確立形態4 現在の国号「'''グレートブリテン及び北アイルランド連合王国'''」に変更\n"
     ]
    }
   ],
   "source": [
    "target_keys = []\n",
    "for key, val in fields_dict.items():\n",
    "    if \"''\" in val:\n",
    "        target_keys.append(key)\n",
    "        print(key,val)"
   ]
  },
  {
   "cell_type": "code",
   "execution_count": 14,
   "metadata": {},
   "outputs": [
    {
     "name": "stdout",
     "output_type": "stream",
     "text": [
      "国歌 [[女王陛下万歳|{{lang|en|God Save the Queen}}]]{{en icon}}<br />神よ女王を護り賜え<br />{{center|[[ファイル:United States Navy Band - God Save the Queen.ogg]]}}\n",
      "確立形態4 現在の国号「グレートブリテン及び北アイルランド連合王国」に変更\n"
     ]
    }
   ],
   "source": [
    "# 基礎情報をparse\n",
    "fields_dict = {}\n",
    "basic_info_pattern = '\\|(.+)=(.+)'\n",
    "for info_line in basic_info:\n",
    "    # 強調マークアップを削除\n",
    "    flat_line = re.sub(\"'?''\", '', info_line)\n",
    "    m = re.search(basic_info_pattern, flat_line)\n",
    "    if m:\n",
    "        field, val = m.groups()\n",
    "        fields_dict[field.strip()] = val.strip()\n",
    "for _k in target_keys:\n",
    "    print(_k, fields_dict[_k])"
   ]
  },
  {
   "cell_type": "markdown",
   "metadata": {},
   "source": [
    "## 27. 内部リンクの除去\n",
    "26の処理に加えて，テンプレートの値からMediaWikiの内部リンクマークアップを除去し，テキストに変換せよ（参考: [マークアップ早見表](https://ja.wikipedia.org/wiki/Help:%E6%97%A9%E8%A6%8B%E8%A1%A8)）．"
   ]
  },
  {
   "cell_type": "code",
   "execution_count": 17,
   "metadata": {},
   "outputs": [
    {
     "name": "stdout",
     "output_type": "stream",
     "text": [
      "国章画像 [[ファイル:Royal Coat of Arms of the United Kingdom.svg|85px|イギリスの国章]]\n",
      "国章リンク （[[イギリスの国章|国章]]）\n",
      "標語 {{lang|fr|[[Dieu et mon droit]]}}<br />（[[フランス語]]:[[Dieu et mon droit|神と我が権利]]）\n",
      "国歌 [[女王陛下万歳|{{lang|en|God Save the Queen}}]]{{en icon}}<br />神よ女王を護り賜え<br />{{center|[[ファイル:United States Navy Band - God Save the Queen.ogg]]}}\n",
      "公用語 [[英語]]\n",
      "首都 [[ロンドン]]（事実上）\n",
      "元首等肩書 [[イギリスの君主|女王]]\n",
      "元首等氏名 [[エリザベス2世]]\n",
      "首相等肩書 [[イギリスの首相|首相]]\n",
      "首相等氏名 [[ボリス・ジョンソン]]\n",
      "他元首等肩書1 [[貴族院 (イギリス)|貴族院議長]]\n",
      "他元首等氏名1 [[:en:Norman Fowler, Baron Fowler|ノーマン・ファウラー]]\n",
      "他元首等肩書2 [[庶民院 (イギリス)|庶民院議長]]\n",
      "他元首等肩書3 [[連合王国最高裁判所|最高裁判所長官]]\n",
      "他元首等氏名3 [[:en:Brenda Hale, Baroness Hale of Richmond|ブレンダ・ヘイル]]\n",
      "確立形態1 [[イングランド王国]]／[[スコットランド王国]]<br />（両国とも[[合同法 (1707年)|1707年合同法]]まで）\n",
      "確立形態2 [[グレートブリテン王国]]成立<br />（1707年合同法）\n",
      "確立形態3 [[グレートブリテン及びアイルランド連合王国]]成立<br />（[[合同法 (1800年)|1800年合同法]]）\n",
      "通貨 [[スターリング・ポンド|UKポンド]] (£)\n",
      "ccTLD [[.uk]] / [[.gb]]<ref>使用は.ukに比べ圧倒的少数。</ref>\n"
     ]
    }
   ],
   "source": [
    "target_keys = []\n",
    "for key, val in fields_dict.items():\n",
    "    m = re.search(r'\\[\\[.+\\]\\]', val)\n",
    "    if m:\n",
    "        target_keys.append(key)\n",
    "        print(key, val)"
   ]
  },
  {
   "cell_type": "code",
   "execution_count": 110,
   "metadata": {},
   "outputs": [
    {
     "data": {
      "text/plain": [
       "'aaaabcbbb神と我が権利イギリスの国章'"
      ]
     },
     "execution_count": 110,
     "metadata": {},
     "output_type": "execute_result"
    }
   ],
   "source": [
    "def replace_internal_markup(string):\n",
    "    pattern = r'(?:(\\[\\[[^\\|\\[\\]]+\\]\\]))|(?:(\\[\\[ファイル:[^\\]]+\\]\\]))|(?:(\\[\\[[^\\[\\]]+\\]\\]))'\n",
    "    matches = re.findall(pattern, string)\n",
    "    ret_str = string\n",
    "    for match_word, file_markup, match_with_pipe in matches:\n",
    "        if match_word:\n",
    "            norm_word = re.sub(r'\\[\\[(.+)\\]\\]', r'\\1', match_word)\n",
    "            ret_str = ret_str.replace(match_word, norm_word)\n",
    "        elif match_with_pipe:\n",
    "            norm_word = re.sub(r'\\[\\[[^\\|]+\\|([^\\]]+)\\]\\]', r'\\1', match_with_pipe)\n",
    "            ret_str = ret_str.replace(match_with_pipe, norm_word)\n",
    "        elif file_markup:\n",
    "            norm_word = file_markup.split('|')[-1].replace(']]', '')\n",
    "            ret_str = ret_str.replace(file_markup, norm_word)\n",
    "    return ret_str\n",
    "replace_internal_markup('[[aaa]]abc[[bbb]][[Dieu et mon droit|神と我が権利]][[ファイル:Royal Coat of Arms of the United Kingdom.svg|85px|イギリスの国章]]')"
   ]
  },
  {
   "cell_type": "code",
   "execution_count": 111,
   "metadata": {},
   "outputs": [
    {
     "name": "stdout",
     "output_type": "stream",
     "text": [
      "国章画像 イギリスの国章\n",
      "国章リンク （国章）\n",
      "標語 {{lang|fr|Dieu et mon droit}}<br />（フランス語:神と我が権利）\n",
      "国歌 {{lang|en|God Save the Queen}}{{en icon}}<br />神よ女王を護り賜え<br />{{center|ファイル:United States Navy Band - God Save the Queen.ogg}}\n",
      "公用語 英語\n",
      "首都 ロンドン（事実上）\n",
      "元首等肩書 女王\n",
      "元首等氏名 エリザベス2世\n",
      "首相等肩書 首相\n",
      "首相等氏名 ボリス・ジョンソン\n",
      "他元首等肩書1 貴族院議長\n",
      "他元首等氏名1 ノーマン・ファウラー\n",
      "他元首等肩書2 庶民院議長\n",
      "他元首等肩書3 最高裁判所長官\n",
      "他元首等氏名3 ブレンダ・ヘイル\n",
      "確立形態1 イングランド王国／スコットランド王国<br />（両国とも1707年合同法まで）\n",
      "確立形態2 グレートブリテン王国成立<br />（1707年合同法）\n",
      "確立形態3 グレートブリテン及びアイルランド連合王国成立<br />（1800年合同法）\n",
      "通貨 UKポンド (£)\n",
      "ccTLD .uk / .gb<ref>使用は.ukに比べ圧倒的少数。</ref>\n"
     ]
    }
   ],
   "source": [
    "fields_dict = {}\n",
    "basic_info_pattern = '\\|(.+)=(.+)'\n",
    "for info_line in basic_info:\n",
    "    # 強調マークアップを削除\n",
    "    flat_line = re.sub(\"'?''\", '', info_line)\n",
    "    m = re.search(basic_info_pattern, flat_line)\n",
    "    if m:\n",
    "        field, val = m.groups()\n",
    "        # 内部リンクマークアップを除去\n",
    "        val = replace_internal_markup(val)\n",
    "        fields_dict[field.strip()] = val.strip()\n",
    "fields_dict\n",
    "\n",
    "for _k in target_keys:\n",
    "    print(_k, fields_dict[_k])"
   ]
  },
  {
   "cell_type": "markdown",
   "metadata": {},
   "source": [
    "## 28. MediaWikiマークアップの除去\n",
    "27の処理に加えて，テンプレートの値からMediaWikiマークアップを可能な限り除去し，国の基本情報を整形せよ"
   ]
  },
  {
   "cell_type": "code",
   "execution_count": 158,
   "metadata": {},
   "outputs": [
    {
     "data": {
      "text/plain": [
       "'God Save the QueenUnited States Navy Band - God Save the Queen.ogg'"
      ]
     },
     "execution_count": 158,
     "metadata": {},
     "output_type": "execute_result"
    }
   ],
   "source": [
    "def replace_curly(string):\n",
    "    pattern = r'({{lang\\|[^\\|]+\\|[^}]+}})|({{[^\\|]+}})|({{[^\\|]+\\|ファイル:[^}]+}})'\n",
    "    matches = re.findall(pattern, string)\n",
    "    ret_str = string\n",
    "    for lang_markup, icon_markup, file_markup in matches:\n",
    "        if lang_markup:\n",
    "            norm_word = re.sub(r'{{lang\\|[^\\|]+\\|([^}]+)}}', r'\\1', lang_markup)\n",
    "            ret_str = ret_str.replace(lang_markup, norm_word)\n",
    "        elif icon_markup:\n",
    "            #             norm_word = re.sub(r'{{([^\\|]+)}}', r'\\1', icon_markup)\n",
    "            ret_str = ret_str.replace(icon_markup, '')\n",
    "        elif file_markup:\n",
    "            norm_word = re.sub(r'{{[^\\|]+\\|ファイル:([^}]+)}}', r'\\1', file_markup)\n",
    "            ret_str = ret_str.replace(file_markup, norm_word)\n",
    "    return ret_str    \n",
    "\n",
    "replace_curly('{{lang|en|God Save the Queen}}{{en icon}}{{center|ファイル:United States Navy Band - God Save the Queen.ogg}}')"
   ]
  },
  {
   "cell_type": "code",
   "execution_count": 159,
   "metadata": {},
   "outputs": [
    {
     "name": "stdout",
     "output_type": "stream",
     "text": [
      "国章画像 イギリスの国章\n",
      "国章リンク （国章）\n",
      "標語 Dieu et mon droit<br />（フランス語:神と我が権利）\n",
      "国歌 God Save the Queen<br />神よ女王を護り賜え<br />United States Navy Band - God Save the Queen.ogg\n",
      "公用語 英語\n",
      "首都 ロンドン（事実上）\n",
      "元首等肩書 女王\n",
      "元首等氏名 エリザベス2世\n",
      "首相等肩書 首相\n",
      "首相等氏名 ボリス・ジョンソン\n",
      "他元首等肩書1 貴族院議長\n",
      "他元首等氏名1 ノーマン・ファウラー\n",
      "他元首等肩書2 庶民院議長\n",
      "他元首等肩書3 最高裁判所長官\n",
      "他元首等氏名3 ブレンダ・ヘイル\n",
      "確立形態1 イングランド王国／スコットランド王国<br />（両国とも1707年合同法まで）\n",
      "確立形態2 グレートブリテン王国成立<br />（1707年合同法）\n",
      "確立形態3 グレートブリテン及びアイルランド連合王国成立<br />（1800年合同法）\n",
      "通貨 UKポンド (£)\n",
      "ccTLD .uk / .gb<ref>使用は.ukに比べ圧倒的少数。</ref>\n"
     ]
    }
   ],
   "source": [
    "fields_dict = {}\n",
    "basic_info_pattern = '\\|(.+)=(.+)'\n",
    "for info_line in basic_info:\n",
    "    # 強調マークアップを削除\n",
    "    flat_line = re.sub(\"'?''\", '', info_line)\n",
    "    m = re.search(basic_info_pattern, flat_line)\n",
    "    if m:\n",
    "        field, val = m.groups()\n",
    "        # 内部リンクマークアップを除去\n",
    "        val = replace_internal_markup(val)\n",
    "        # curly マークアップを除去\n",
    "        val = replace_curly(val)\n",
    "        fields_dict[field.strip()] = val.strip()\n",
    "fields_dict\n",
    "\n",
    "for _k in target_keys:\n",
    "    print(_k, fields_dict[_k])"
   ]
  },
  {
   "cell_type": "markdown",
   "metadata": {},
   "source": [
    "## 29. 国旗画像のURLを取得する\n",
    "テンプレートの内容を利用し，国旗画像のURLを取得せよ．（ヒント: MediaWiki APIのimageinfoを呼び出して，ファイル参照をURLに変換すればよい"
   ]
  },
  {
   "cell_type": "code",
   "execution_count": 169,
   "metadata": {},
   "outputs": [
    {
     "name": "stdout",
     "output_type": "stream",
     "text": [
      "ファイル:Royal Coat of Arms of the United Kingdom.svg is uploaded by User:Pbrks\n"
     ]
    }
   ],
   "source": [
    "import requests\n",
    "\n",
    "S = requests.Session()\n",
    "\n",
    "URL = \"https://ja.wikipedia.org/w/api.php\"\n",
    "filename = \"ファイル:Royal Coat of Arms of the United Kingdom.svg\"\n",
    "\n",
    "PARAMS = {\n",
    "    \"action\": \"query\",\n",
    "    \"format\": \"json\",\n",
    "    \"prop\": \"imageinfo\",\n",
    "    \"titles\": filename\n",
    "}\n",
    "\n",
    "DATA = S.get(url=URL, params=PARAMS).json()\n",
    "\n",
    "PAGES = DATA[\"query\"][\"pages\"]\n",
    "\n",
    "for k, v in PAGES.items():\n",
    "    print(v[\"title\"] + \" is uploaded by User:\" + v[\"imageinfo\"][0][\"user\"])"
   ]
  },
  {
   "cell_type": "code",
   "execution_count": 174,
   "metadata": {},
   "outputs": [
    {
     "data": {
      "text/html": [
       "<img src=\"https://commons.wikimedia.org/wiki/Special:FilePath/Royal_Coat_of_Arms_of_the_United_Kingdom.svg\"/>"
      ],
      "text/plain": [
       "<IPython.core.display.Image object>"
      ]
     },
     "execution_count": 174,
     "metadata": {},
     "output_type": "execute_result"
    }
   ],
   "source": [
    "from IPython.display import Image\n",
    "insert_filepath = filename.replace('ファイル:', '').replace(' ', '_')\n",
    "target_file_url = f'https://commons.wikimedia.org/wiki/Special:FilePath/{insert_filepath}'\n",
    "Image(url=target_file_url)"
   ]
  }
 ],
 "metadata": {
  "kernelspec": {
   "display_name": "Python 3",
   "language": "python",
   "name": "python3"
  },
  "language_info": {
   "codemirror_mode": {
    "name": "ipython",
    "version": 3
   },
   "file_extension": ".py",
   "mimetype": "text/x-python",
   "name": "python",
   "nbconvert_exporter": "python",
   "pygments_lexer": "ipython3",
   "version": "3.6.8"
  }
 },
 "nbformat": 4,
 "nbformat_minor": 4
}
