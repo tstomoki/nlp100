{
 "cells": [
  {
   "cell_type": "markdown",
   "metadata": {},
   "source": [
    "# 第2章: UNIXコマンド\n",
    "popular-names.txtは，アメリカで生まれた赤ちゃんの「名前」「性別」「人数」「年」をタブ区切り形式で格納したファイルである．以下の処理を行うプログラムを作成し，popular-names.txtを入力ファイルとして実行せよ．さらに，同様の処理をUNIXコマンドでも実行し，プログラムの実行結果を確認せよ．"
   ]
  },
  {
   "cell_type": "code",
   "execution_count": 10,
   "metadata": {},
   "outputs": [
    {
     "data": {
      "text/plain": [
       "'data/popular-names.txt'"
      ]
     },
     "execution_count": 10,
     "metadata": {},
     "output_type": "execute_result"
    }
   ],
   "source": [
    "import os\n",
    "data_filepath = os.path.join('data', 'popular-names.txt')\n",
    "data_filepath"
   ]
  },
  {
   "cell_type": "markdown",
   "metadata": {},
   "source": [
    "## 10. 行数のカウント\n",
    "行数をカウントせよ．確認にはwcコマンドを用いよ"
   ]
  },
  {
   "cell_type": "code",
   "execution_count": 9,
   "metadata": {},
   "outputs": [
    {
     "name": "stdout",
     "output_type": "stream",
     "text": [
      "行数: 2,780\n"
     ]
    }
   ],
   "source": [
    "lc = 0\n",
    "with open(data_filepath) as f:\n",
    "    for s_line in f:\n",
    "        lc += 1\n",
    "print(f\"行数: {lc:,}\")"
   ]
  },
  {
   "cell_type": "code",
   "execution_count": 11,
   "metadata": {},
   "outputs": [
    {
     "name": "stdout",
     "output_type": "stream",
     "text": [
      "    2780   11120   55026 data/popular-names.txt\r\n"
     ]
    }
   ],
   "source": [
    "!wc data/popular-names.txt"
   ]
  },
  {
   "cell_type": "markdown",
   "metadata": {},
   "source": [
    "## 11. タブをスペースに置換\n",
    "タブ1文字につきスペース1文字に置換せよ．確認にはsedコマンド，trコマンド，もしくはexpandコマンドを用いよ．"
   ]
  },
  {
   "cell_type": "code",
   "execution_count": 17,
   "metadata": {},
   "outputs": [
    {
     "name": "stdout",
     "output_type": "stream",
     "text": [
      "output data/tmp_a.txt\n"
     ]
    }
   ],
   "source": [
    "conv_filepath = os.path.join(os.path.dirname(data_filepath), 'tmp_a.txt')\n",
    "with open(data_filepath) as f:\n",
    "    for s_line in f:\n",
    "        conv_line = s_line.replace('\\t', ' ')\n",
    "        with open(conv_filepath, mode='a') as f:\n",
    "            f.write(conv_line)\n",
    "print(f'output {conv_filepath}')"
   ]
  },
  {
   "cell_type": "code",
   "execution_count": 19,
   "metadata": {},
   "outputs": [
    {
     "name": "stdout",
     "output_type": "stream",
     "text": [
      "Mary F 7065 1880\r\n",
      "Anna F 2604 1880\r\n",
      "Emma F 2003 1880\r\n",
      "Elizabeth F 1939 1880\r\n",
      "Minnie F 1746 1880\r\n",
      "Margaret F 1578 1880\r\n",
      "Ida F 1472 1880\r\n",
      "Alice F 1414 1880\r\n",
      "Bertha F 1320 1880\r\n",
      "Sarah F 1288 1880\r\n"
     ]
    }
   ],
   "source": [
    "!head -10 data/tmp_a.txt"
   ]
  },
  {
   "cell_type": "code",
   "execution_count": 22,
   "metadata": {},
   "outputs": [],
   "source": [
    "!expand -t 1 data/popular-names.txt > data/tmp_b.txt"
   ]
  },
  {
   "cell_type": "code",
   "execution_count": 24,
   "metadata": {},
   "outputs": [
    {
     "name": "stdout",
     "output_type": "stream",
     "text": [
      "Mary F 7065 1880\r\n",
      "Anna F 2604 1880\r\n",
      "Emma F 2003 1880\r\n",
      "Elizabeth F 1939 1880\r\n",
      "Minnie F 1746 1880\r\n",
      "Margaret F 1578 1880\r\n",
      "Ida F 1472 1880\r\n",
      "Alice F 1414 1880\r\n",
      "Bertha F 1320 1880\r\n",
      "Sarah F 1288 1880\r\n"
     ]
    }
   ],
   "source": [
    "!head -10 data/tmp_b.txt"
   ]
  },
  {
   "cell_type": "markdown",
   "metadata": {},
   "source": [
    "## 13. col1.txtとcol2.txtをマージ\n",
    "12で作ったcol1.txtとcol2.txtを結合し，元のファイルの1列目と2列目をタブ区切りで並べたテキストファイルを作成せよ．確認にはpasteコマンドを用いよ．"
   ]
  },
  {
   "cell_type": "code",
   "execution_count": null,
   "metadata": {},
   "outputs": [],
   "source": []
  }
 ],
 "metadata": {
  "kernelspec": {
   "display_name": "Python 3",
   "language": "python",
   "name": "python3"
  },
  "language_info": {
   "codemirror_mode": {
    "name": "ipython",
    "version": 3
   },
   "file_extension": ".py",
   "mimetype": "text/x-python",
   "name": "python",
   "nbconvert_exporter": "python",
   "pygments_lexer": "ipython3",
   "version": "3.6.8"
  }
 },
 "nbformat": 4,
 "nbformat_minor": 4
}
