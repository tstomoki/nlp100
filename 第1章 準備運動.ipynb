{
 "cells": [
  {
   "cell_type": "markdown",
   "metadata": {},
   "source": [
    "# 第1章: 準備運動"
   ]
  },
  {
   "cell_type": "markdown",
   "metadata": {},
   "source": [
    "## 00. 文字列の逆順\n",
    "文字列”stressed”の文字を逆に（末尾から先頭に向かって）並べた文字列を得よ．"
   ]
  },
  {
   "cell_type": "code",
   "execution_count": 9,
   "metadata": {},
   "outputs": [
    {
     "data": {
      "text/plain": [
       "'desserts'"
      ]
     },
     "execution_count": 9,
     "metadata": {},
     "output_type": "execute_result"
    }
   ],
   "source": [
    "s = 'stressed'\n",
    "''.join(reversed(s))"
   ]
  },
  {
   "cell_type": "markdown",
   "metadata": {},
   "source": [
    "## 01. 「パタトクカシーー」\n",
    "「パタトクカシーー」という文字列の1,3,5,7文字目を取り出して連結した文字列を得よ．"
   ]
  },
  {
   "cell_type": "code",
   "execution_count": 11,
   "metadata": {},
   "outputs": [
    {
     "data": {
      "text/plain": [
       "'パトカー'"
      ]
     },
     "execution_count": 11,
     "metadata": {},
     "output_type": "execute_result"
    }
   ],
   "source": [
    "s = 'パタトクカシーー'\n",
    "''.join([_s for i, _s in enumerate(s) if 1 == (i+1) % 2])"
   ]
  },
  {
   "cell_type": "markdown",
   "metadata": {},
   "source": [
    "## 02. 「パトカー」＋「タクシー」＝「パタトクカシーー」\n",
    "「パトカー」＋「タクシー」の文字を先頭から交互に連結して文字列「パタトクカシーー」を得よ．"
   ]
  },
  {
   "cell_type": "code",
   "execution_count": 13,
   "metadata": {},
   "outputs": [
    {
     "data": {
      "text/plain": [
       "'パタトクカシーー'"
      ]
     },
     "execution_count": 13,
     "metadata": {},
     "output_type": "execute_result"
    }
   ],
   "source": [
    "s1 = 'パトカー'\n",
    "s2 = 'タクシー'\n",
    "\n",
    "ans = ''\n",
    "for _s1, _s2 in zip(s1, s2):\n",
    "    ans += _s1\n",
    "    ans += _s2\n",
    "ans"
   ]
  },
  {
   "cell_type": "markdown",
   "metadata": {},
   "source": [
    "## 03. 円周率\n",
    "“Now I need a drink, alcoholic of course, after the heavy lectures involving quantum mechanics.”という文を単語に分解し，各単語の（アルファベットの）文字数を先頭から出現順に並べたリストを作成せよ．"
   ]
  },
  {
   "cell_type": "code",
   "execution_count": 24,
   "metadata": {},
   "outputs": [
    {
     "data": {
      "text/plain": [
       "[3, 1, 4, 1, 5, 9, 2, 6, 5, 3, 5, 8, 9, 7, 9]"
      ]
     },
     "execution_count": 24,
     "metadata": {},
     "output_type": "execute_result"
    }
   ],
   "source": [
    "s = 'Now I need a drink, alcoholic of course, after the heavy lectures involving quantum mechanics.'\n",
    "[len(_w.replace(',', '').replace('.', '')) for _w in s.split()]"
   ]
  },
  {
   "cell_type": "markdown",
   "metadata": {},
   "source": [
    "## 04. 元素記号\n",
    "“Hi He Lied Because Boron Could Not Oxidize Fluorine. New Nations Might Also Sign Peace Security Clause. Arthur King Can.”という文を単語に分解し，1, 5, 6, 7, 8, 9, 15, 16, 19番目の単語は先頭の1文字，それ以外の単語は先頭に2文字を取り出し，取り出した文字列から単語の位置（先頭から何番目の単語か）への連想配列（辞書型もしくはマップ型）を作成せよ．"
   ]
  },
  {
   "cell_type": "code",
   "execution_count": 32,
   "metadata": {},
   "outputs": [
    {
     "data": {
      "text/plain": [
       "{'H': 0,\n",
       " 'He': 1,\n",
       " 'Li': 2,\n",
       " 'Be': 3,\n",
       " 'B': 4,\n",
       " 'C': 5,\n",
       " 'N': 6,\n",
       " 'O': 7,\n",
       " 'F': 8,\n",
       " 'Ne': 9,\n",
       " 'Na': 10,\n",
       " 'Mi': 11,\n",
       " 'Al': 12,\n",
       " 'Si': 13,\n",
       " 'P': 14,\n",
       " 'S': 15,\n",
       " 'Cl': 16,\n",
       " 'Ar': 17,\n",
       " 'K': 18,\n",
       " 'Ca': 19}"
      ]
     },
     "execution_count": 32,
     "metadata": {},
     "output_type": "execute_result"
    }
   ],
   "source": [
    "s = 'Hi He Lied Because Boron Could Not Oxidize Fluorine. New Nations Might Also Sign Peace Security Clause. Arthur King Can.'\n",
    "first_chara_indexes = [1, 5, 6, 7, 8, 9, 15, 16, 19]\n",
    "\n",
    "dic = {}\n",
    "for i, w in enumerate(s.split()):\n",
    "    if  i+1 in first_chara_indexes:\n",
    "        dic[w[0]] = i\n",
    "    else:\n",
    "        dic[w[:2]] = i\n",
    "dic"
   ]
  },
  {
   "cell_type": "markdown",
   "metadata": {},
   "source": [
    "## 05. n-gram\n",
    "与えられたシーケンス（文字列やリストなど）からn-gramを作る関数を作成せよ．この関数を用い，”I am an NLPer”という文から単語bi-gram，文字bi-gramを得よ．"
   ]
  },
  {
   "cell_type": "code",
   "execution_count": 46,
   "metadata": {},
   "outputs": [
    {
     "name": "stdout",
     "output_type": "stream",
     "text": [
      "seq: I am an NLPer\n",
      "単語bi-gram: ['Iam', 'aman', 'anNLPer']\n",
      "文字bi-gram: ['Ia', 'am', 'ma', 'an', 'nN', 'NL', 'LP', 'Pe', 'er']\n"
     ]
    }
   ],
   "source": [
    "def ngram(seq, n, mode):\n",
    "    ngram_list = []\n",
    "    if 'word' == mode:\n",
    "        words = seq.split()\n",
    "        for idx in range(len(words)):\n",
    "            _ngram = []\n",
    "            for i in range(n):\n",
    "                if idx + i >= len(words):\n",
    "                    continue\n",
    "                _ngram.append(words[idx+i])\n",
    "            if len(_ngram) == n:\n",
    "                ngram_list.append(''.join(_ngram))\n",
    "    elif 'chara' == mode:\n",
    "        # スペースを無視する場合\n",
    "        seq = seq.replace(' ', '')\n",
    "        for idx in range(len(seq)):\n",
    "            _ngram = []\n",
    "            for i in range(n):\n",
    "                if idx + i >= len(seq):\n",
    "                    continue\n",
    "                _ngram.append(seq[idx+i])\n",
    "            if len(_ngram) == n:\n",
    "                ngram_list.append(''.join(_ngram))\n",
    "    \n",
    "    return ngram_list\n",
    "    \n",
    "seq = 'I am an NLPer'\n",
    "print(f\"seq: {seq}\")\n",
    "print(f\"単語bi-gram: {ngram(seq, 2, mode='word')}\")\n",
    "print(f\"文字bi-gram: {ngram(seq, 2, mode='chara')}\")"
   ]
  },
  {
   "cell_type": "markdown",
   "metadata": {},
   "source": [
    "## 06. 集合\n",
    "“paraparaparadise”と”paragraph”に含まれる文字bi-gramの集合を，それぞれ, XとYとして求め，XとYの和集合，積集合，差集合を求めよ．さらに，’se’というbi-gramがXおよびYに含まれるかどうかを調べよ．"
   ]
  },
  {
   "cell_type": "code",
   "execution_count": 63,
   "metadata": {},
   "outputs": [
    {
     "name": "stdout",
     "output_type": "stream",
     "text": [
      "bi-gram(x): ['pa', 'ar', 'ra', 'ap', 'pa', 'ar', 'ra', 'ap', 'pa', 'ar', 'ra', 'ad', 'di', 'is', 'se']\n",
      "bi-gram(y): ['pa', 'ar', 'ra', 'ag', 'gr', 'ra', 'ap', 'ph']\n",
      "集合X{'ra', 'se', 'ar', 'ad', 'pa', 'is', 'ap', 'di'}\n",
      "集合Y{'ra', 'gr', 'ar', 'ag', 'pa', 'ph', 'ap'}\n",
      "和集合{'ra', 'gr', 'se', 'ar', 'ad', 'pa', 'ag', 'ph', 'is', 'ap', 'di'}\n",
      "積集合{'ap', 'ra', 'ar', 'pa'}\n",
      "差集合(X-Y){'se', 'ad', 'di', 'is'}\n",
      "差集合(Y-X){'ag', 'gr', 'ph'}\n",
      "'se' in X : True\n",
      "'se' in Y : False\n"
     ]
    }
   ],
   "source": [
    "seq_x = \"paraparaparadise\"\n",
    "X = ngram(seq_x, 2, mode='chara')\n",
    "seq_y = \"paragraph\"\n",
    "Y = ngram(seq_y, 2, mode='chara')\n",
    "\n",
    "print(f\"bi-gram(x): {X}\")\n",
    "print(f\"bi-gram(y): {Y}\")\n",
    "\n",
    "set_x = set(X)\n",
    "set_y = set(Y)\n",
    "\n",
    "print(f\"集合X{set_x}\")\n",
    "print(f\"集合Y{set_y}\")\n",
    "print(f\"和集合{set_x | set_y}\")\n",
    "print(f\"積集合{set_x&set_y}\")\n",
    "print(f\"差集合(X-Y){set_x-set_y}\")\n",
    "print(f\"差集合(Y-X){set_y-set_x}\")\n",
    "print(f\"'se' in X : {'se' in set_x}\")\n",
    "print(f\"'se' in Y : {'se' in set_y}\")"
   ]
  },
  {
   "cell_type": "markdown",
   "metadata": {},
   "source": [
    "## 07. テンプレートによる文生成\n",
    "引数x, y, zを受け取り「x時のyはz」という文字列を返す関数を実装せよ．さらに，x=12, y=”気温”, z=22.4として，実行結果を確認せよ"
   ]
  },
  {
   "cell_type": "code",
   "execution_count": 1,
   "metadata": {},
   "outputs": [
    {
     "data": {
      "text/plain": [
       "'12時の気温は22.4'"
      ]
     },
     "execution_count": 1,
     "metadata": {},
     "output_type": "execute_result"
    }
   ],
   "source": [
    "def func(x, y, z):\n",
    "    return f\"{x}時の{y}は{z}\"\n",
    "\n",
    "func(x=12, y='気温', z=22.4)"
   ]
  },
  {
   "cell_type": "markdown",
   "metadata": {},
   "source": [
    "## 08. 暗号文\n",
    "与えられた文字列の各文字を，以下の仕様で変換する関数cipherを実装せよ．\n",
    "\n",
    "- 英小文字ならば(219 - 文字コード)の文字に置換\n",
    "- その他の文字はそのまま出力\n",
    "\n",
    "この関数を用い，英語のメッセージを暗号化・復号化せよ．"
   ]
  },
  {
   "cell_type": "code",
   "execution_count": 6,
   "metadata": {},
   "outputs": [
    {
     "name": "stdout",
     "output_type": "stream",
     "text": [
      "cipher:  Tsrh rh z kvm. Ig'h 10 l'xolxp.\n",
      "decipher:  This is a pen. It's 10 o'clock.\n"
     ]
    }
   ],
   "source": [
    "def cipher(sentence):\n",
    "    ret_str = []\n",
    "    \n",
    "    for _s in sentence:\n",
    "        insert_s = _s\n",
    "        if _s.isalnum() and _s.islower():\n",
    "            insert_s =chr(219 - ord(_s))\n",
    "        ret_str.append(insert_s)\n",
    "    \n",
    "    return ''.join(ret_str)\n",
    "\n",
    "s = \"This is a pen. It's 10 o'clock.\"\n",
    "print('cipher: ', cipher(s))\n",
    "print('decipher: ', cipher(cipher(s)))"
   ]
  },
  {
   "cell_type": "markdown",
   "metadata": {},
   "source": [
    "## 09. Typoglycemia\n",
    "スペースで区切られた単語列に対して，各単語の先頭と末尾の文字は残し，それ以外の文字の順序をランダムに並び替えるプログラムを作成せよ．ただし，長さが４以下の単語は並び替えないこととする．適当な英語の文（例えば”I couldn’t believe that I could actually understand what I was reading : the phenomenal power of the human mind .”）を与え，その実行結果を確認せよ．"
   ]
  },
  {
   "cell_type": "code",
   "execution_count": 16,
   "metadata": {},
   "outputs": [
    {
     "data": {
      "text/plain": [
       "'I cndu’olt bevleie that I cloud atlcluay urndnaestd what I was rdeanig : the ponhmneael pewor of the hamun mind .'"
      ]
     },
     "execution_count": 16,
     "metadata": {},
     "output_type": "execute_result"
    }
   ],
   "source": [
    "import random \n",
    "\n",
    "def func(s):\n",
    "    ret_str = []\n",
    "    for _s in s.split():\n",
    "        insert_s = _s\n",
    "        \n",
    "        if len(_s) > 4:\n",
    "            idx_list = list(range(1, len(_s)-1))\n",
    "            random.shuffle(idx_list)\n",
    "            idx_list = [0] + idx_list + [len(_s) - 1]\n",
    "            insert_s = ''.join([_s[idx] for idx in idx_list])\n",
    "        ret_str.append(insert_s)\n",
    "    return ' '.join(ret_str)\n",
    "\n",
    "s = 'I couldn’t believe that I could actually understand what I was reading : the phenomenal power of the human mind .'\n",
    "func(s)"
   ]
  }
 ],
 "metadata": {
  "kernelspec": {
   "display_name": "Python 3",
   "language": "python",
   "name": "python3"
  },
  "language_info": {
   "codemirror_mode": {
    "name": "ipython",
    "version": 3
   },
   "file_extension": ".py",
   "mimetype": "text/x-python",
   "name": "python",
   "nbconvert_exporter": "python",
   "pygments_lexer": "ipython3",
   "version": "3.6.8"
  }
 },
 "nbformat": 4,
 "nbformat_minor": 2
}
