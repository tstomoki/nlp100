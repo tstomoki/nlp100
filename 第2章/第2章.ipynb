{
 "cells": [
  {
   "cell_type": "markdown",
   "metadata": {},
   "source": [
    "# 第2章: UNIXコマンド\n",
    "popular-names.txtは，アメリカで生まれた赤ちゃんの「名前」「性別」「人数」「年」をタブ区切り形式で格納したファイルである．以下の処理を行うプログラムを作成し，popular-names.txtを入力ファイルとして実行せよ．さらに，同様の処理をUNIXコマンドでも実行し，プログラムの実行結果を確認せよ．"
   ]
  },
  {
   "cell_type": "code",
   "execution_count": 1,
   "metadata": {},
   "outputs": [
    {
     "data": {
      "text/plain": [
       "'data/popular-names.txt'"
      ]
     },
     "execution_count": 1,
     "metadata": {},
     "output_type": "execute_result"
    }
   ],
   "source": [
    "import os\n",
    "data_filepath = os.path.join('data', 'popular-names.txt')\n",
    "data_filepath"
   ]
  },
  {
   "cell_type": "markdown",
   "metadata": {},
   "source": [
    "## 10. 行数のカウント\n",
    "行数をカウントせよ．確認にはwcコマンドを用いよ"
   ]
  },
  {
   "cell_type": "code",
   "execution_count": 2,
   "metadata": {},
   "outputs": [
    {
     "name": "stdout",
     "output_type": "stream",
     "text": [
      "行数: 2,780\n"
     ]
    }
   ],
   "source": [
    "lc = 0\n",
    "with open(data_filepath) as f:\n",
    "    for s_line in f:\n",
    "        lc += 1\n",
    "print(f\"行数: {lc:,}\")"
   ]
  },
  {
   "cell_type": "code",
   "execution_count": 3,
   "metadata": {},
   "outputs": [
    {
     "name": "stdout",
     "output_type": "stream",
     "text": [
      "    2780   11120   55026 data/popular-names.txt\r\n"
     ]
    }
   ],
   "source": [
    "!wc data/popular-names.txt"
   ]
  },
  {
   "cell_type": "markdown",
   "metadata": {},
   "source": [
    "## 11. タブをスペースに置換\n",
    "タブ1文字につきスペース1文字に置換せよ．確認にはsedコマンド，trコマンド，もしくはexpandコマンドを用いよ．"
   ]
  },
  {
   "cell_type": "code",
   "execution_count": 4,
   "metadata": {},
   "outputs": [
    {
     "name": "stdout",
     "output_type": "stream",
     "text": [
      "output data/tmp_a.txt\n"
     ]
    }
   ],
   "source": [
    "conv_filepath = os.path.join(os.path.dirname(data_filepath), 'tmp_a.txt')\n",
    "with open(data_filepath) as f:\n",
    "    for s_line in f:\n",
    "        conv_line = s_line.replace('\\t', ' ')\n",
    "        with open(conv_filepath, mode='a') as f:\n",
    "            f.write(conv_line)\n",
    "print(f'output {conv_filepath}')"
   ]
  },
  {
   "cell_type": "code",
   "execution_count": 5,
   "metadata": {},
   "outputs": [
    {
     "name": "stdout",
     "output_type": "stream",
     "text": [
      "Mary F 7065 1880\r\n",
      "Anna F 2604 1880\r\n",
      "Emma F 2003 1880\r\n",
      "Elizabeth F 1939 1880\r\n",
      "Minnie F 1746 1880\r\n",
      "Margaret F 1578 1880\r\n",
      "Ida F 1472 1880\r\n",
      "Alice F 1414 1880\r\n",
      "Bertha F 1320 1880\r\n",
      "Sarah F 1288 1880\r\n"
     ]
    }
   ],
   "source": [
    "!head -10 data/tmp_a.txt"
   ]
  },
  {
   "cell_type": "code",
   "execution_count": 6,
   "metadata": {},
   "outputs": [],
   "source": [
    "!expand -t 1 data/popular-names.txt > data/tmp_b.txt"
   ]
  },
  {
   "cell_type": "code",
   "execution_count": 7,
   "metadata": {},
   "outputs": [
    {
     "name": "stdout",
     "output_type": "stream",
     "text": [
      "Mary F 7065 1880\r\n",
      "Anna F 2604 1880\r\n",
      "Emma F 2003 1880\r\n",
      "Elizabeth F 1939 1880\r\n",
      "Minnie F 1746 1880\r\n",
      "Margaret F 1578 1880\r\n",
      "Ida F 1472 1880\r\n",
      "Alice F 1414 1880\r\n",
      "Bertha F 1320 1880\r\n",
      "Sarah F 1288 1880\r\n"
     ]
    }
   ],
   "source": [
    "!head -10 data/tmp_b.txt"
   ]
  },
  {
   "cell_type": "markdown",
   "metadata": {},
   "source": [
    "## 12. 1列目をcol1.txtに，2列目をcol2.txtに保存\n",
    "各行の1列目だけを抜き出したものをcol1.txtに，2列目だけを抜き出したものをcol2.txtとしてファイルに保存せよ．確認にはcutコマンドを用いよ．"
   ]
  },
  {
   "cell_type": "code",
   "execution_count": 8,
   "metadata": {},
   "outputs": [],
   "source": [
    "os.remove(os.path.join(os.path.dirname(data_filepath), 'col1.txt'))\n",
    "os.remove(os.path.join(os.path.dirname(data_filepath), 'col2.txt'))"
   ]
  },
  {
   "cell_type": "code",
   "execution_count": 9,
   "metadata": {},
   "outputs": [
    {
     "name": "stdout",
     "output_type": "stream",
     "text": [
      "output col1.txt in data/col1.txt\n",
      "output col2.txt in data/col2.txt\n"
     ]
    }
   ],
   "source": [
    "col1_output_filepath = os.path.join(os.path.dirname(data_filepath), 'col1.txt')\n",
    "col2_output_filepath = os.path.join(os.path.dirname(data_filepath), 'col2.txt')\n",
    "with open(data_filepath) as f:\n",
    "    for s_line in f:\n",
    "        split_line = s_line.split('\\t')\n",
    "        with open(col1_output_filepath, mode='a') as f:\n",
    "            f.write(split_line[0] + '\\n')\n",
    "        with open(col2_output_filepath, mode='a') as f:\n",
    "            f.write(split_line[1] + '\\n')\n",
    "print(f'output col1.txt in {col1_output_filepath}')\n",
    "print(f'output col2.txt in {col2_output_filepath}')"
   ]
  },
  {
   "cell_type": "code",
   "execution_count": 10,
   "metadata": {},
   "outputs": [
    {
     "name": "stdout",
     "output_type": "stream",
     "text": [
      "======= col1 =======\n",
      "Mary\n",
      "Anna\n",
      "Emma\n",
      "Elizabeth\n",
      "Minnie\n",
      "Margaret\n",
      "Ida\n",
      "Alice\n",
      "Bertha\n",
      "Sarah\n",
      "======= col2 =======\n",
      "F\n",
      "F\n",
      "F\n",
      "F\n",
      "F\n",
      "F\n",
      "F\n",
      "F\n",
      "F\n",
      "F\n"
     ]
    }
   ],
   "source": [
    "!echo '======= col1 ======='\n",
    "!head -10 'data/col1.txt'\n",
    "!echo '======= col2 ======='\n",
    "!head -10 'data/col2.txt'"
   ]
  },
  {
   "cell_type": "code",
   "execution_count": 11,
   "metadata": {},
   "outputs": [
    {
     "name": "stdout",
     "output_type": "stream",
     "text": [
      "======= col1 =======\n",
      "Mary\n",
      "Anna\n",
      "Emma\n",
      "Elizabeth\n",
      "Minnie\n",
      "Margaret\n",
      "Ida\n",
      "Alice\n",
      "Bertha\n",
      "Sarah\n",
      "======= col2 =======\n",
      "F\n",
      "F\n",
      "F\n",
      "F\n",
      "F\n",
      "F\n",
      "F\n",
      "F\n",
      "F\n",
      "F\n"
     ]
    }
   ],
   "source": [
    "!echo '======= col1 ======='\n",
    "!cut -f 1 data/col1.txt | head -10\n",
    "!echo '======= col2 ======='\n",
    "!cut -f 1 data/col2.txt | head -10"
   ]
  },
  {
   "cell_type": "markdown",
   "metadata": {},
   "source": [
    "## 13. col1.txtとcol2.txtをマージ\n",
    "12で作ったcol1.txtとcol2.txtを結合し，元のファイルの1列目と2列目をタブ区切りで並べたテキストファイルを作成せよ．確認にはpasteコマンドを用いよ．"
   ]
  },
  {
   "cell_type": "code",
   "execution_count": 50,
   "metadata": {},
   "outputs": [
    {
     "name": "stdout",
     "output_type": "stream",
     "text": [
      "output file in data/merged_col12.txt\n"
     ]
    }
   ],
   "source": [
    "col1_output_filepath = os.path.join(os.path.dirname(data_filepath), 'col1.txt')\n",
    "col2_output_filepath = os.path.join(os.path.dirname(data_filepath), 'col2.txt')\n",
    "output_filepath = os.path.join(os.path.dirname(data_filepath), 'merged_col12.txt')\n",
    "with open(col1_output_filepath) as f_col1:\n",
    "    with open(col2_output_filepath) as f_col2:\n",
    "        for co1, co2 in zip(f_col1, f_col2):\n",
    "            write_line = '\\t'.join([co1.strip(), co2.strip()])\n",
    "            with open(output_filepath, mode='a') as f:\n",
    "                f.write(write_line + '\\n')\n",
    "print(f'output file in {output_filepath}')"
   ]
  },
  {
   "cell_type": "code",
   "execution_count": 51,
   "metadata": {},
   "outputs": [
    {
     "name": "stdout",
     "output_type": "stream",
     "text": [
      "Mary\tF\r\n",
      "Anna\tF\r\n",
      "Emma\tF\r\n",
      "Elizabeth\tF\r\n",
      "Minnie\tF\r\n",
      "Margaret\tF\r\n",
      "Ida\tF\r\n",
      "Alice\tF\r\n",
      "Bertha\tF\r\n",
      "Sarah\tF\r\n"
     ]
    }
   ],
   "source": [
    "!head -10 data/merged_col12.txt"
   ]
  },
  {
   "cell_type": "code",
   "execution_count": 56,
   "metadata": {},
   "outputs": [
    {
     "name": "stdout",
     "output_type": "stream",
     "text": [
      "Mary\tF\r\n",
      "Anna\tF\r\n",
      "Emma\tF\r\n",
      "Elizabeth\tF\r\n",
      "Minnie\tF\r\n",
      "Margaret\tF\r\n",
      "Ida\tF\r\n",
      "Alice\tF\r\n",
      "Bertha\tF\r\n",
      "Sarah\tF\r\n"
     ]
    }
   ],
   "source": [
    "!paste data/col1.txt data/col2.txt | head -10"
   ]
  },
  {
   "cell_type": "markdown",
   "metadata": {},
   "source": [
    "## 14. 先頭からN行を出力\n",
    "自然数Nをコマンドライン引数などの手段で受け取り，入力のうち先頭のN行だけを表示せよ．確認にはheadコマンドを用いよ．"
   ]
  },
  {
   "cell_type": "code",
   "execution_count": 62,
   "metadata": {},
   "outputs": [
    {
     "name": "stdout",
     "output_type": "stream",
     "text": [
      "Mary\n",
      "Anna\n",
      "Emma\n",
      "Elizabeth\n",
      "Minnie\n",
      "Margaret\n",
      "Ida\n",
      "Alice\n",
      "Bertha\n",
      "Sarah\n"
     ]
    }
   ],
   "source": [
    "display_lines = 10\n",
    "with open(col1_output_filepath) as f_col1:\n",
    "    count = 0\n",
    "    while count < display_lines:\n",
    "        print(f_col1.readline(), end='')\n",
    "        count += 1"
   ]
  },
  {
   "cell_type": "code",
   "execution_count": 63,
   "metadata": {},
   "outputs": [
    {
     "name": "stdout",
     "output_type": "stream",
     "text": [
      "Mary\r\n",
      "Anna\r\n",
      "Emma\r\n",
      "Elizabeth\r\n",
      "Minnie\r\n",
      "Margaret\r\n",
      "Ida\r\n",
      "Alice\r\n",
      "Bertha\r\n",
      "Sarah\r\n"
     ]
    }
   ],
   "source": [
    "!head -10 data/col1.txt"
   ]
  },
  {
   "cell_type": "markdown",
   "metadata": {},
   "source": [
    "## 15. 末尾のN行を出力\n",
    "自然数Nをコマンドライン引数などの手段で受け取り，入力のうち末尾のN行だけを表示せよ．確認にはtailコマンドを用いよ．"
   ]
  },
  {
   "cell_type": "code",
   "execution_count": 68,
   "metadata": {},
   "outputs": [
    {
     "name": "stdout",
     "output_type": "stream",
     "text": [
      "Liam\n",
      "Noah\n",
      "William\n",
      "James\n",
      "Oliver\n",
      "Benjamin\n",
      "Elijah\n",
      "Lucas\n",
      "Mason\n",
      "Logan\n"
     ]
    }
   ],
   "source": [
    "display_lines = 10\n",
    "with open(col1_output_filepath) as f_col1:\n",
    "    for line in f_col1.readlines()[-display_lines:]:\n",
    "        print(line, end='')"
   ]
  },
  {
   "cell_type": "code",
   "execution_count": 64,
   "metadata": {},
   "outputs": [
    {
     "name": "stdout",
     "output_type": "stream",
     "text": [
      "Liam\r\n",
      "Noah\r\n",
      "William\r\n",
      "James\r\n",
      "Oliver\r\n",
      "Benjamin\r\n",
      "Elijah\r\n",
      "Lucas\r\n",
      "Mason\r\n",
      "Logan\r\n"
     ]
    }
   ],
   "source": [
    "!tail -10 data/col1.txt"
   ]
  },
  {
   "cell_type": "markdown",
   "metadata": {},
   "source": [
    "## 16. ファイルをN分割する\n",
    "自然数Nをコマンドライン引数などの手段で受け取り，入力のファイルを行単位でN分割せよ．同様の処理をsplitコマンドで実現せよ．"
   ]
  },
  {
   "cell_type": "code",
   "execution_count": 81,
   "metadata": {},
   "outputs": [
    {
     "name": "stdout",
     "output_type": "stream",
     "text": [
      "Collecting more-itertools\n",
      "  Downloading more_itertools-8.2.0-py3-none-any.whl (43 kB)\n",
      "\u001b[K     |████████████████████████████████| 43 kB 1.7 MB/s eta 0:00:011\n",
      "\u001b[?25hInstalling collected packages: more-itertools\n",
      "Successfully installed more-itertools-8.2.0\n"
     ]
    }
   ],
   "source": [
    "!pip install more-itertools"
   ]
  },
  {
   "cell_type": "code",
   "execution_count": 85,
   "metadata": {},
   "outputs": [],
   "source": [
    "import more_itertools\n",
    "\n",
    "base_output_filepath = os.path.join('data', 'n_split_col1_{}.txt')\n",
    "split_line_num = 1390\n",
    "with open(col1_output_filepath) as f_col1:\n",
    "    all_lines = f_col1.readlines()\n",
    "    start_ends_list = list(range(0, len(all_lines)+1, split_line_num))\n",
    "    for idx, (start_line_num, end_line_num) in enumerate(more_itertools.windowed(start_ends_list, 2,step = 1)):\n",
    "        output_filepath = base_output_filepath.format(idx)\n",
    "        with open(output_filepath, mode='a') as f:\n",
    "            f.writelines(all_lines[start_line_num:end_line_num])"
   ]
  },
  {
   "cell_type": "code",
   "execution_count": 75,
   "metadata": {},
   "outputs": [],
   "source": [
    "!split -l 1390 data/col1.txt data/n_split_col1.txt"
   ]
  },
  {
   "cell_type": "code",
   "execution_count": 88,
   "metadata": {},
   "outputs": [
    {
     "name": "stdout",
     "output_type": "stream",
     "text": [
      "Mary\r\n",
      "Anna\r\n",
      "Emma\r\n",
      "Elizabeth\r\n",
      "Minnie\r\n",
      "Margaret\r\n",
      "Ida\r\n",
      "Alice\r\n",
      "Bertha\r\n",
      "Sarah\r\n"
     ]
    }
   ],
   "source": [
    "!head -10 data/n_split_col1.txtaa"
   ]
  },
  {
   "cell_type": "code",
   "execution_count": 89,
   "metadata": {},
   "outputs": [
    {
     "name": "stdout",
     "output_type": "stream",
     "text": [
      "Mary\r\n",
      "Anna\r\n",
      "Emma\r\n",
      "Elizabeth\r\n",
      "Minnie\r\n",
      "Margaret\r\n",
      "Ida\r\n",
      "Alice\r\n",
      "Bertha\r\n",
      "Sarah\r\n"
     ]
    }
   ],
   "source": [
    "!head -10 data/n_split_col1_0.txt"
   ]
  },
  {
   "cell_type": "code",
   "execution_count": 90,
   "metadata": {},
   "outputs": [
    {
     "name": "stdout",
     "output_type": "stream",
     "text": [
      "James\r\n",
      "Robert\r\n",
      "John\r\n",
      "William\r\n",
      "Michael\r\n",
      "David\r\n",
      "Richard\r\n",
      "Thomas\r\n",
      "Charles\r\n",
      "Larry\r\n"
     ]
    }
   ],
   "source": [
    "!head -10 data/n_split_col1.txtab"
   ]
  },
  {
   "cell_type": "code",
   "execution_count": 91,
   "metadata": {},
   "outputs": [
    {
     "name": "stdout",
     "output_type": "stream",
     "text": [
      "James\r\n",
      "Robert\r\n",
      "John\r\n",
      "William\r\n",
      "Michael\r\n",
      "David\r\n",
      "Richard\r\n",
      "Thomas\r\n",
      "Charles\r\n",
      "Larry\r\n"
     ]
    }
   ],
   "source": [
    "!head -10 data/n_split_col1_1.txt"
   ]
  },
  {
   "cell_type": "markdown",
   "metadata": {},
   "source": [
    "## 17. １列目の文字列の異なり\n",
    "1列目の文字列の種類（異なる文字列の集合）を求めよ．確認にはcut, sort, uniqコマンドを用いよ．"
   ]
  },
  {
   "cell_type": "code",
   "execution_count": 25,
   "metadata": {},
   "outputs": [
    {
     "name": "stdout",
     "output_type": "stream",
     "text": [
      "uniq words: 136\n",
      "Abigail\n",
      "Aiden\n",
      "Alexander\n",
      "Alexis\n",
      "Alice\n",
      "Amanda\n",
      "Amelia\n",
      "Amy\n",
      "Andrew\n",
      "Angela\n"
     ]
    }
   ],
   "source": [
    "uniq_words = set()\n",
    "with open(col1_output_filepath) as f_col1:\n",
    "    for col1 in f_col1:\n",
    "        uniq_words.add(col1.strip())\n",
    "print(f'uniq words: {len(uniq_words):.0f}')\n",
    "for word in sorted(uniq_words)[:10]:\n",
    "    print(word)"
   ]
  },
  {
   "cell_type": "code",
   "execution_count": 30,
   "metadata": {},
   "outputs": [
    {
     "name": "stdout",
     "output_type": "stream",
     "text": [
      "     136\n",
      "Abigail\n",
      "Aiden\n",
      "Alexander\n",
      "Alexis\n",
      "Alice\n",
      "Amanda\n",
      "Amelia\n",
      "Amy\n",
      "Andrew\n",
      "Angela\n"
     ]
    }
   ],
   "source": [
    "!cut -f 1 data/col1.txt | sort | uniq | wc -l\n",
    "!cut -f 1 data/col1.txt | sort | uniq | head -10"
   ]
  },
  {
   "cell_type": "markdown",
   "metadata": {},
   "source": [
    "## 18. 各行を3コラム目の数値の降順にソート\n",
    "各行を3コラム目の数値の逆順で整列せよ（注意: 各行の内容は変更せずに並び替えよ）．確認にはsortコマンドを用いよ（この問題はコマンドで実行した時の結果と合わなくてもよい）．"
   ]
  },
  {
   "cell_type": "code",
   "execution_count": 51,
   "metadata": {},
   "outputs": [
    {
     "name": "stdout",
     "output_type": "stream",
     "text": [
      "Sarah\tF\t1288\t1880\n",
      "Alice\tF\t1308\t1881\n",
      "Bertha\tF\t1320\t1880\n",
      "Bertha\tF\t1324\t1881\n",
      "Annie\tF\t1326\t1881\n",
      "Alice\tF\t1414\t1880\n",
      "Ida\tF\t1439\t1881\n",
      "Ida\tF\t1472\t1880\n",
      "Annie\tF\t1492\t1882\n",
      "Bertha\tF\t1508\t1882\n"
     ]
    }
   ],
   "source": [
    "with open(data_filepath) as f:\n",
    "    split_lines = []\n",
    "    for line in f:\n",
    "        split_line = line.strip().split('\\t')\n",
    "        split_lines.append(tuple(split_line))\n",
    "\n",
    "display_lines = 10\n",
    "for split_line in sorted(split_lines, key=lambda x: int(x[2]))[:display_lines]:\n",
    "        print('\\t'.join(split_line))"
   ]
  },
  {
   "cell_type": "code",
   "execution_count": 54,
   "metadata": {},
   "outputs": [
    {
     "name": "stdout",
     "output_type": "stream",
     "text": [
      "Sarah\tF\t1288\t1880\r\n",
      "Alice\tF\t1308\t1881\r\n",
      "Bertha\tF\t1320\t1880\r\n",
      "Bertha\tF\t1324\t1881\r\n",
      "Annie\tF\t1326\t1881\r\n",
      "Alice\tF\t1414\t1880\r\n",
      "Ida\tF\t1439\t1881\r\n",
      "Ida\tF\t1472\t1880\r\n",
      "Annie\tF\t1492\t1882\r\n",
      "Bertha\tF\t1508\t1882\r\n",
      "sort: Broken pipe\r\n"
     ]
    }
   ],
   "source": [
    "!sort -k 3,3 -n data/popular-names.txt | head -10"
   ]
  },
  {
   "cell_type": "markdown",
   "metadata": {},
   "source": [
    "## 19. 各行の1コラム目の文字列の出現頻度を求め，出現頻度の高い順に並べる\n",
    "各行の1列目の文字列の出現頻度を求め，その高い順に並べて表示せよ．確認にはcut, uniq, sortコマンドを用いよ．"
   ]
  },
  {
   "cell_type": "code",
   "execution_count": 67,
   "metadata": {},
   "outputs": [
    {
     "name": "stdout",
     "output_type": "stream",
     "text": [
      "118 James\n",
      "111 William\n",
      "108 John\n",
      "108 Robert\n",
      "92 Mary\n",
      "75 Charles\n",
      "74 Michael\n",
      "73 Elizabeth\n",
      "70 Joseph\n",
      "60 Margaret\n"
     ]
    }
   ],
   "source": [
    "count_dict = {}\n",
    "with open(data_filepath) as f:\n",
    "    for line in f:\n",
    "        name, _, _, _ = line.strip().split('\\t')\n",
    "        count_dict.setdefault(name, 0)\n",
    "        count_dict[name] += 1\n",
    "display_lines = 10\n",
    "for name, count in sorted(count_dict.items(), key=lambda x: x[1], reverse=True)[:display_lines]:\n",
    "    print(count, name)"
   ]
  },
  {
   "cell_type": "code",
   "execution_count": 60,
   "metadata": {},
   "outputs": [
    {
     "name": "stdout",
     "output_type": "stream",
     "text": [
      " 118 James\r\n",
      " 111 William\r\n",
      " 108 Robert\r\n",
      " 108 John\r\n",
      "  92 Mary\r\n",
      "  75 Charles\r\n",
      "  74 Michael\r\n",
      "  73 Elizabeth\r\n",
      "  70 Joseph\r\n",
      "  60 Margaret\r\n"
     ]
    }
   ],
   "source": [
    "!cut -f 1 data/popular-names.txt | sort | uniq -c | sort -r| head -10"
   ]
  }
 ],
 "metadata": {
  "kernelspec": {
   "display_name": "Python 3",
   "language": "python",
   "name": "python3"
  },
  "language_info": {
   "codemirror_mode": {
    "name": "ipython",
    "version": 3
   },
   "file_extension": ".py",
   "mimetype": "text/x-python",
   "name": "python",
   "nbconvert_exporter": "python",
   "pygments_lexer": "ipython3",
   "version": "3.6.8"
  }
 },
 "nbformat": 4,
 "nbformat_minor": 4
}
