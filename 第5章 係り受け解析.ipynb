{
 "cells": [
  {
   "cell_type": "markdown",
   "metadata": {},
   "source": [
    "# 第5章: 係り受け解析\n",
    "夏目漱石の小説『吾輩は猫である』の文章（[neko.txt](https://nlp100.github.io/data/neko.txt)）を[CaboCha](https://taku910.github.io/cabocha/)を使って係り受け解析し，その結果をneko.txt.cabochaというファイルに保存せよ．このファイルを用いて，以下の問に対応するプログラムを実装せよ．"
   ]
  },
  {
   "cell_type": "code",
   "execution_count": 2,
   "metadata": {},
   "outputs": [
    {
     "name": "stdout",
     "output_type": "stream",
     "text": [
      "  % Total    % Received % Xferd  Average Speed   Time    Time     Time  Current\n",
      "                                 Dload  Upload   Total   Spent    Left  Speed\n",
      "100  943k  100  943k    0     0   635k      0  0:00:01  0:00:01 --:--:--  635k\n"
     ]
    }
   ],
   "source": [
    "!mkdir data\n",
    "!curl -O https://nlp100.github.io/data/neko.txt\n",
    "!mv neko.txt ./data"
   ]
  },
  {
   "cell_type": "code",
   "execution_count": 8,
   "metadata": {},
   "outputs": [],
   "source": [
    "!cat ./data/neko.txt | cabocha -f1 > ./data/neko.txt.cabocha"
   ]
  },
  {
   "cell_type": "code",
   "execution_count": 10,
   "metadata": {},
   "outputs": [
    {
     "name": "stdout",
     "output_type": "stream",
     "text": [
      "* 0 -1D 0/0 0.000000\r\n",
      "一\t名詞,数,*,*,*,*,一,イチ,イチ\r\n",
      "EOS\r\n",
      "EOS\r\n",
      "* 0 -1D 1/1 0.000000\r\n",
      "　\t記号,空白,*,*,*,*,　,　,　\r\n",
      "吾輩は猫である\t名詞,固有名詞,一般,*,*,*,吾輩は猫である,ワガハイハネコデアル,ワガハイワネコデアル\r\n",
      "。\t記号,句点,*,*,*,*,。,。,。\r\n",
      "EOS\r\n",
      "* 0 2D 0/1 -1.911675\r\n",
      "名前\t名詞,一般,*,*,*,*,名前,ナマエ,ナマエ\r\n",
      "は\t助詞,係助詞,*,*,*,*,は,ハ,ワ\r\n",
      "* 1 2D 0/0 -1.911675\r\n",
      "まだ\t副詞,助詞類接続,*,*,*,*,まだ,マダ,マダ\r\n",
      "* 2 -1D 0/0 0.000000\r\n",
      "無い\t形容詞,自立,*,*,形容詞・アウオ段,基本形,無い,ナイ,ナイ\r\n",
      "。\t記号,句点,*,*,*,*,。,。,。\r\n",
      "EOS\r\n",
      "EOS\r\n",
      "* 0 1D 1/2 1.504358\r\n",
      "　\t記号,空白,*,*,*,*,　,　,　\r\n",
      "どこ\t名詞,代名詞,一般,*,*,*,どこ,ドコ,ドコ\r\n",
      "で\t助詞,格助詞,一般,*,*,*,で,デ,デ\r\n",
      "* 1 2D 0/1 1.076607\r\n",
      "生れ\t動詞,自立,*,*,一段,連用形,生れる,ウマレ,ウマレ\r\n",
      "た\t助動詞,*,*,*,特殊・タ,基本形,た,タ,タ\r\n",
      "* 2 4D 0/1 -0.197109\r\n",
      "かとん\t名詞,一般,*,*,*,*,火遁,カトン,カトン\r\n",
      "と\t助詞,格助詞,一般,*,*,*,と,ト,ト\r\n",
      "* 3 4D 0/1 -0.197109\r\n"
     ]
    }
   ],
   "source": [
    "!head -30 ./data/neko.txt.cabocha"
   ]
  },
  {
   "cell_type": "markdown",
   "metadata": {},
   "source": [
    "## 40. 係り受け解析結果の読み込み（形態素）\n",
    "形態素を表すクラスMorphを実装せよ．\n",
    "このクラスは表層形（surface），基本形（base），品詞（pos），品詞細分類1（pos1）をメンバ変数に持つこととする．\n",
    "さらに，CaboChaの解析結果（neko.txt.cabocha）を読み込み，各文をMorphオブジェクトのリストとして表現し，3文目の形態素列を表示せよ．"
   ]
  },
  {
   "cell_type": "code",
   "execution_count": 38,
   "metadata": {},
   "outputs": [],
   "source": [
    "IGNORE_CHARACTERS = {'\\u3000'}\n",
    "class Morph:\n",
    "    def __init__(self, surface, base, pos, pos1):\n",
    "        self.surface = surface\n",
    "        self.base = base\n",
    "        self.pos = pos\n",
    "        self.pos1= pos1\n",
    "    \n",
    "    def __repr__(self):\n",
    "        display_surface = self.surface\n",
    "        return f\"Morph({display_surface})\""
   ]
  },
  {
   "cell_type": "code",
   "execution_count": 40,
   "metadata": {},
   "outputs": [
    {
     "name": "stdout",
     "output_type": "stream",
     "text": [
      "[Morph(どこ), Morph(で), Morph(生れ), Morph(た), Morph(かとん), Morph(と), Morph(見当), Morph(が), Morph(つか), Morph(ぬ), Morph(。)]\n"
     ]
    }
   ],
   "source": [
    "filepath = 'data/neko.txt.cabocha'\n",
    "with open(filepath, 'r') as f:\n",
    "    result_list = []\n",
    "    line_list = []\n",
    "    for line in f:\n",
    "        if line.startswith('*'):\n",
    "            continue\n",
    "        if 'EOS' == line.strip():\n",
    "            if line_list:\n",
    "                result_list.append(line_list)\n",
    "            line_list = []\n",
    "        else:\n",
    "            surface, others = line.split('\\t')\n",
    "            split_results = others.strip().split(',')\n",
    "            if 9 == len(split_results):\n",
    "                pos, pos1, _, _, _, _, base, _, _ = split_results\n",
    "            elif 7 == len(split_results):\n",
    "                pos, pos1, _, _, _, _, _ = split_results\n",
    "                base = None\n",
    "            \n",
    "            if surface not in IGNORE_CHARACTERS:\n",
    "                morph = Morph(surface, base, pos, pos1)\n",
    "                line_list.append(morph)\n",
    "\n",
    "display_line_num = 3  # 3行目を表示\n",
    "print(result_list[display_line_num])"
   ]
  },
  {
   "cell_type": "markdown",
   "metadata": {},
   "source": [
    "## 41. 係り受け解析結果の読み込み（文節・係り受け）\n",
    "40に加えて，文節を表すクラスChunkを実装せよ．\n",
    "このクラスは形態素（Morphオブジェクト）のリスト（morphs），係り先文節インデックス番号（dst），係り元文節インデックス番号のリスト（srcs）をメンバ変数に持つこととする．\n",
    "さらに，入力テキストのCaboChaの解析結果を読み込み，１文をChunkオブジェクトのリストとして表現し，8文目の文節の文字列と係り先を表示せよ．\n",
    "第5章の残りの問題では，ここで作ったプログラムを活用せよ"
   ]
  },
  {
   "cell_type": "code",
   "execution_count": 78,
   "metadata": {},
   "outputs": [
    {
     "name": "stdout",
     "output_type": "stream",
     "text": [
      "[0: Chunk(Morph(この)) -> 1, 1: Chunk(Morph(書生),Morph(という),Morph(の),Morph(は)) -> 7, 2: Chunk(Morph(時々)) -> 4, 3: Chunk(Morph(我々),Morph(を)) -> 4, 4: Chunk(Morph(捕え),Morph(て)) -> 5, 5: Chunk(Morph(煮),Morph(て)) -> 6, 6: Chunk(Morph(食う),Morph(という)) -> 7, 7: Chunk(Morph(話),Morph(で),Morph(ある),Morph(。)) -> -1]\n"
     ]
    }
   ],
   "source": [
    "class Chunk(object):\n",
    "    def __init__(self, chunk_num, dst):\n",
    "        self.chunk_num = chunk_num\n",
    "        self.morphs = []\n",
    "        self.srcs = []\n",
    "        self.dst = int(dst.replace('D', ''))\n",
    "    \n",
    "    def __repr__(self):\n",
    "        morph_str = ','.join([str(_m) for _m in self.morphs])\n",
    "        return f\"{self.chunk_num}: Chunk({morph_str}) -> {self.dst}\"\n",
    "    \n",
    "def set_srcs(chunk_list):\n",
    "    if 1 == len(chunk_list):\n",
    "        chunk_list[0].srcs.append(-1)\n",
    "        return chunk_list\n",
    "    dst_dict = {_i: _c.dst for _i, _c in enumerate(chunk_list) if _c.dst != -1}\n",
    "    \n",
    "    for src, dst in dst_dict.items():\n",
    "        chunk_list[dst].srcs.append(src)\n",
    "    return chunk_list\n",
    "\n",
    "filepath = 'data/neko.txt.cabocha'\n",
    "chunk = None\n",
    "with open(filepath, 'r') as f:\n",
    "    result_list = []\n",
    "    line_list = []\n",
    "    for line in f:\n",
    "        if line.startswith('*'):\n",
    "            if chunk and chunk.morphs:\n",
    "                line_list.append(chunk)\n",
    "            _, chunk_num, dst, _, _ = line.strip().split()\n",
    "            chunk = Chunk(chunk_num, dst)\n",
    "            continue\n",
    "\n",
    "\n",
    "        if 'EOS' == line.strip():\n",
    "            if chunk and chunk.morphs:\n",
    "                line_list.append(chunk)\n",
    "\n",
    "            if line_list:\n",
    "                result_list.append(set_srcs(line_list))\n",
    "            chunk = None\n",
    "            line_list = []\n",
    "        else:\n",
    "            surface, others = line.split('\\t')\n",
    "            split_results = others.strip().split(',')\n",
    "            if 9 == len(split_results):\n",
    "                pos, pos1, _, _, _, _, base, _, _ = split_results\n",
    "            elif 7 == len(split_results):\n",
    "                pos, pos1, _, _, _, _, _ = split_results\n",
    "                base = None\n",
    "            \n",
    "#             if surface not in IGNORE_CHARACTERS:\n",
    "            morph = Morph(surface, base, pos, pos1)\n",
    "            chunk.morphs.append(morph)\n",
    "\n",
    "display_line_num = 8  # 8行目を表示\n",
    "print(result_list[display_line_num-1])"
   ]
  },
  {
   "cell_type": "markdown",
   "metadata": {},
   "source": [
    "## 42. 係り元と係り先の文節の表示"
   ]
  },
  {
   "cell_type": "markdown",
   "metadata": {},
   "source": [
    "## 43. 名詞を含む文節が動詞を含む文節に係るものを抽出"
   ]
  },
  {
   "cell_type": "markdown",
   "metadata": {},
   "source": [
    "## 44. 係り受け木の可視化"
   ]
  },
  {
   "cell_type": "markdown",
   "metadata": {},
   "source": [
    "## 45. 動詞の格パターンの抽出"
   ]
  },
  {
   "cell_type": "markdown",
   "metadata": {},
   "source": [
    "## 46. 動詞の格フレーム情報の抽出"
   ]
  },
  {
   "cell_type": "markdown",
   "metadata": {},
   "source": [
    "## 47. 機能動詞構文のマイニング"
   ]
  },
  {
   "cell_type": "markdown",
   "metadata": {},
   "source": [
    "## 48. 名詞から根へのパスの抽出"
   ]
  },
  {
   "cell_type": "markdown",
   "metadata": {},
   "source": [
    "## 49. 名詞間の係り受けパスの抽出"
   ]
  },
  {
   "cell_type": "code",
   "execution_count": null,
   "metadata": {},
   "outputs": [],
   "source": []
  }
 ],
 "metadata": {
  "kernelspec": {
   "display_name": "Python 3",
   "language": "python",
   "name": "python3"
  },
  "language_info": {
   "codemirror_mode": {
    "name": "ipython",
    "version": 3
   },
   "file_extension": ".py",
   "mimetype": "text/x-python",
   "name": "python",
   "nbconvert_exporter": "python",
   "pygments_lexer": "ipython3",
   "version": "3.6.8"
  }
 },
 "nbformat": 4,
 "nbformat_minor": 4
}
